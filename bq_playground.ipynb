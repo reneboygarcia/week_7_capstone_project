{
 "cells": [
  {
   "cell_type": "code",
   "execution_count": 34,
   "metadata": {},
   "outputs": [
    {
     "name": "stdout",
     "output_type": "stream",
     "text": [
      "Setup Complete\n"
     ]
    }
   ],
   "source": [
    "# imports\n",
    "import typing\n",
    "from prefect import task, flow\n",
    "from prefect_gcp import GcpCredentials\n",
    "from google.cloud import bigquery\n",
    "\n",
    "print(\"Setup Complete\")"
   ]
  },
  {
   "cell_type": "code",
   "execution_count": 35,
   "metadata": {},
   "outputs": [
    {
     "name": "stderr",
     "output_type": "stream",
     "text": [
      "/opt/homebrew/Caskroom/miniforge/base/lib/python3.9/site-packages/prefect/tasks.py:270: UserWarning: A task named 'get-gcp-creds' and defined at '/var/folders/h2/6110hgtx6b7400ybw7yjhn400000gn/T/ipykernel_24489/4149454993.py:2' conflicts with another task. Consider specifying a unique `name` parameter in the task definition:\n",
      "\n",
      " `@task(name='my_unique_name', ...)`\n",
      "  warnings.warn(\n"
     ]
    }
   ],
   "source": [
    "# Deployment 2\n",
    "@task(log_prints=True, name=\"get-gcp-creds\")\n",
    "# Define a function to get GCP Credentials\n",
    "def get_bigquery_client():\n",
    "    gcp_creds_block = GcpCredentials.load(\n",
    "        \"prefect-gcs-2023-creds\"\n",
    "    )  # Change this credentials to yours\n",
    "    gcp_creds = gcp_creds_block.get_credentials_from_service_account()\n",
    "    client = bigquery.Client(credentials=gcp_creds)\n",
    "    return client"
   ]
  },
  {
   "cell_type": "code",
   "execution_count": 36,
   "metadata": {},
   "outputs": [],
   "source": [
    "# @flow()\n",
    "# def create_dataset(dataset_name: str):\n",
    "#     # Construct a BigQuery client object.\n",
    "#     client = get_bigquery_client()\n",
    "\n",
    "#     # TODO(developer): Set dataset_id to the ID of the dataset to create.\n",
    "#     dataset_id = f\"{client.project}.{dataset_name}\"\n",
    "\n",
    "#     # Construct a full Dataset object to send to the API.\n",
    "#     dataset = bigquery.Dataset(dataset_id)\n",
    "\n",
    "#     # TODO(developer): Specify the geographic location where the dataset should reside.\n",
    "#     dataset.location = \"asia-southeast1\"\n",
    "\n",
    "#     # Send the dataset to the API for creation, with an explicit timeout.\n",
    "#     # Raises google.api_core.exceptions.Conflict if the Dataset already\n",
    "#     # exists within the project.\n",
    "#     dataset = client.create_dataset(dataset, timeout=30)  # Make an API request.\n",
    "#     print(f\"Created dataset {client.project}.{dataset.dataset_id}\")\n",
    "#     return\n",
    "\n",
    "# create_dataset(dataset_name =\"prod_bandcamp\")"
   ]
  },
  {
   "cell_type": "code",
   "execution_count": 37,
   "metadata": {},
   "outputs": [
    {
     "name": "stderr",
     "output_type": "stream",
     "text": [
      "/opt/homebrew/Caskroom/miniforge/base/lib/python3.9/site-packages/prefect/flows.py:214: UserWarning: A flow named 'etl-gcs-to-bq' and defined at '/var/folders/h2/6110hgtx6b7400ybw7yjhn400000gn/T/ipykernel_24489/693090197.py:2' conflicts with another flow. Consider specifying a unique `name` parameter in the flow definition:\n",
      "\n",
      " `@flow(name='my_unique_name', ...)`\n",
      "  warnings.warn(\n"
     ]
    }
   ],
   "source": [
    "# Upload data from GCS to BigQuery\n",
    "@flow(log_prints=True, name=\"etl-gcs-to-bq\")\n",
    "def etl_gcs_to_bq(file_num: int):\n",
    "    client = get_bigquery_client()\n",
    "    table_id = f\"dtc-de-2023.stg_bandcamp.albums-full-info-{file_num}\"\n",
    "\n",
    "    job_config = bigquery.LoadJobConfig(\n",
    "        source_format=bigquery.SourceFormat.PARQUET,\n",
    "        schema=[\n",
    "            bigquery.SchemaField(\"_id\", \"STRING\", mode=\"NULLABLE\"),\n",
    "            bigquery.SchemaField(\"numTracks\", \"FLOAT\", mode=\"NULLABLE\"),\n",
    "            bigquery.SchemaField(\"keywords\", \"STRING\", mode=\"NULLABLE\"),\n",
    "            bigquery.SchemaField(\"datePublished\", \"DATETIME\", mode=\"NULLABLE\"),\n",
    "            bigquery.SchemaField(\"name\", \"STRING\", mode=\"NULLABLE\"),\n",
    "            bigquery.SchemaField(\"dateModified\", \"DATETIME\", mode=\"NULLABLE\"),\n",
    "            bigquery.SchemaField(\"comment\", \"STRING\", mode=\"NULLABLE\"),\n",
    "            bigquery.SchemaField(\"description\", \"STRING\", mode=\"NULLABLE\"),\n",
    "            bigquery.SchemaField(\"inAlbum\", \"FLOAT\", mode=\"NULLABLE\"),\n",
    "            bigquery.SchemaField(\"offers\", \"FLOAT\", mode=\"NULLABLE\"),\n",
    "            bigquery.SchemaField(\"duration_secs\", \"FLOAT\", mode=\"NULLABLE\"),\n",
    "            bigquery.SchemaField(\"url\", \"STRING\", mode=\"NULLABLE\"),\n",
    "            bigquery.SchemaField(\"duration\", \"STRING\", mode=\"NULLABLE\"),\n",
    "            bigquery.SchemaField(\"isrcCode\", \"STRING\", mode=\"NULLABLE\"),\n",
    "            bigquery.SchemaField(\"byArtist_image\", \"STRING\", mode=\"NULLABLE\"),\n",
    "            bigquery.SchemaField(\"byArtist_genre\", \"STRING\", mode=\"NULLABLE\"),\n",
    "            bigquery.SchemaField(\"byArtist_@type\", \"STRING\", mode=\"NULLABLE\"),\n",
    "            bigquery.SchemaField(\"byArtist_sameAs\", \"STRING\", mode=\"NULLABLE\"),\n",
    "            bigquery.SchemaField(\"byArtist_name\", \"STRING\", mode=\"NULLABLE\"),\n",
    "            bigquery.SchemaField(\"byArtist_description\", \"STRING\", mode=\"NULLABLE\"),\n",
    "            bigquery.SchemaField(\"track_itemListElement\", \"STRING\", mode=\"NULLABLE\"),\n",
    "            bigquery.SchemaField(\"track_@type\", \"STRING\", mode=\"NULLABLE\"),\n",
    "            bigquery.SchemaField(\"track_numberOfItems\", \"FLOAT\", mode=\"NULLABLE\"),\n",
    "            bigquery.SchemaField(\"track\", \"FLOAT\", mode=\"NULLABLE\"),\n",
    "            bigquery.SchemaField(\"inAlbum_name\", \"STRING\", mode=\"NULLABLE\"),\n",
    "            bigquery.SchemaField(\"inAlbum_@id\", \"STRING\", mode=\"NULLABLE\"),\n",
    "            bigquery.SchemaField(\"inAlbum_@type\", \"STRING\", mode=\"NULLABLE\"),\n",
    "            bigquery.SchemaField(\"offers_availability\", \"STRING\", mode=\"NULLABLE\"),\n",
    "            bigquery.SchemaField(\n",
    "                \"offers_priceSpecification_minPrice\", \"FLOAT\", mode=\"NULLABLE\"\n",
    "            ),\n",
    "            bigquery.SchemaField(\"offers_price\", \"FLOAT\", mode=\"NULLABLE\"),\n",
    "            bigquery.SchemaField(\"offers_@type\", \"STRING\", mode=\"NULLABLE\"),\n",
    "            bigquery.SchemaField(\"offers_priceCurrency\", \"STRING\", mode=\"NULLABLE\"),\n",
    "            bigquery.SchemaField(\"offers_url\", \"STRING\", mode=\"NULLABLE\"),\n",
    "            bigquery.SchemaField(\"recordingOf_@type\", \"STRING\", mode=\"NULLABLE\"),\n",
    "            bigquery.SchemaField(\"recordingOf_lyrics_text\", \"STRING\", mode=\"NULLABLE\"),\n",
    "            bigquery.SchemaField(\"recordingOf_lyrics_@type\", \"STRING\", mode=\"NULLABLE\"),\n",
    "            bigquery.SchemaField(\"byArtist\", \"FLOAT\", mode=\"NULLABLE\"),\n",
    "        ],\n",
    "    )\n",
    "    uri = f\"gs://prefect-gcs-bucket-bandcamp/albums-full-info-{file_num}\"\n",
    "\n",
    "    load_job = client.load_table_from_uri(\n",
    "        uri, table_id, job_config=job_config\n",
    "    )  # Make an API request.\n",
    "\n",
    "    load_job.result()  # Waits for the job to complete.\n",
    "\n",
    "    destination_table = client.get_table(table_id)\n",
    "    print(f\"Loaded {destination_table.num_rows} rows.\")\n"
   ]
  },
  {
   "cell_type": "code",
   "execution_count": 38,
   "metadata": {},
   "outputs": [
    {
     "name": "stderr",
     "output_type": "stream",
     "text": [
      "/opt/homebrew/Caskroom/miniforge/base/lib/python3.9/site-packages/prefect/flows.py:214: UserWarning: A flow named 'deduplicate data' and defined at '/var/folders/h2/6110hgtx6b7400ybw7yjhn400000gn/T/ipykernel_24489/895334318.py:1' conflicts with another flow. Consider specifying a unique `name` parameter in the flow definition:\n",
      "\n",
      " `@flow(name='my_unique_name', ...)`\n",
      "  warnings.warn(\n"
     ]
    }
   ],
   "source": [
    "@flow(log_prints=True, name=\"deduplicate data\")\n",
    "# Define a function to remove duplicate\n",
    "def deduplicate_data(num: int):\n",
    "    client = get_bigquery_client()\n",
    "\n",
    "    query_dedup = f\"CREATE OR REPLACE TABLE \\\n",
    "                        `dtc-de-2023.stg_bandcamp.albums-full-info-{num}`  AS ( \\\n",
    "                            SELECT DISTINCT * \\\n",
    "                            FROM `dtc-de-2023.stg_bandcamp.albums-full-info-{num}` \\\n",
    "                            )\"\n",
    "\n",
    "    # limit query to 10GB\n",
    "    safe_config = bigquery.QueryJobConfig(maximum_bytes_billed=10**10)\n",
    "    # priority=bigquery.QueryPriority.BATCH\n",
    "    # query\n",
    "    query_job = client.query(query_dedup, job_config=safe_config)\n",
    "\n",
    "    # Check progress\n",
    "    query_job = typing.cast(\n",
    "        \"bigquery.QueryJob\",\n",
    "        client.get_job(\n",
    "            query_job.job_id, location=query_job.location\n",
    "        ),  # Make an API request.\n",
    "    )\n",
    "    print(\"Complete removing duplicates\")\n",
    "    print(f\"Job {query_job.job_id} is currently in state {query_job.state}\")\n"
   ]
  },
  {
   "cell_type": "code",
   "execution_count": 39,
   "metadata": {},
   "outputs": [],
   "source": [
    "# TABLE_LIST = [f\"albums-full-info-{file_num}\" for file_num in range(1,12)] \n",
    "# TABLE_LIST"
   ]
  },
  {
   "cell_type": "code",
   "execution_count": 40,
   "metadata": {},
   "outputs": [],
   "source": [
    "# Union all tables\n",
    "def union_all():\n",
    "    # Parameters\n",
    "    client = get_bigquery_client()\n",
    "    project_id = \"dtc-de-2023\"\n",
    "    dataset_id = \"stg_bandcamp\"\n",
    "    table_list = [f\"albums-full-info-{file_num}\" for file_num in range(1,12)]\n",
    "    # Query\n",
    "    query_template = \"SELECT * FROM `{project_id}.{dataset_id}.{table_name}`\"\n",
    "    union_table_name = \"bandcamp_items_all\"\n",
    "    destination_table_id = f\"{project_id}.{dataset_id}.{union_table_name}\"\n",
    "    \n",
    "    union_query = \"\\nUNION ALL\\n\".join([query_template.format(project_id=project_id, dataset_id=dataset_id, table_name=table) for table in table_list])\n",
    "    \n",
    "    job_config = bigquery.QueryJobConfig(destination=destination_table_id, write_disposition=\"WRITE_TRUNCATE\")\n",
    "    job = client.query(query=union_query, job_config=job_config)\n",
    "    job.result\n",
    "    return\n"
   ]
  },
  {
   "cell_type": "code",
   "execution_count": 41,
   "metadata": {},
   "outputs": [
    {
     "name": "stderr",
     "output_type": "stream",
     "text": [
      "/opt/homebrew/Caskroom/miniforge/base/lib/python3.9/site-packages/prefect/flows.py:214: UserWarning: A flow named 'etl-parent-to-bq' and defined at '/var/folders/h2/6110hgtx6b7400ybw7yjhn400000gn/T/ipykernel_24489/748791523.py:2' conflicts with another flow. Consider specifying a unique `name` parameter in the flow definition:\n",
      "\n",
      " `@flow(name='my_unique_name', ...)`\n",
      "  warnings.warn(\n"
     ]
    }
   ],
   "source": [
    "# Parent flow ETL\n",
    "@flow(log_prints=True, name=\"etl-parent-to-bq\")\n",
    "def etl_parent_bq_flow(file_num_list: list[int] = [1, 2, 3, 4, 5, 6, 7, 8, 9, 10, 11]):\n",
    "    for file_num in file_num_list:\n",
    "        etl_gcs_to_bq(file_num)\n",
    "    # Union all tables\n",
    "    union_all()"
   ]
  },
  {
   "cell_type": "code",
   "execution_count": 42,
   "metadata": {},
   "outputs": [
    {
     "data": {
      "text/html": [
       "<pre style=\"white-space:pre;overflow-x:auto;line-height:normal;font-family:Menlo,'DejaVu Sans Mono',consolas,'Courier New',monospace\">12:04:58.113 | <span style=\"color: #008080; text-decoration-color: #008080\">INFO</span>    | prefect.engine - Created flow run<span style=\"color: #800080; text-decoration-color: #800080\"> 'aquamarine-echidna'</span> for flow<span style=\"color: #800080; text-decoration-color: #800080; font-weight: bold\"> 'etl-parent-to-bq'</span>\n",
       "</pre>\n"
      ],
      "text/plain": [
       "12:04:58.113 | \u001b[36mINFO\u001b[0m    | prefect.engine - Created flow run\u001b[35m 'aquamarine-echidna'\u001b[0m for flow\u001b[1;35m 'etl-parent-to-bq'\u001b[0m\n"
      ]
     },
     "metadata": {},
     "output_type": "display_data"
    },
    {
     "name": "stderr",
     "output_type": "stream",
     "text": [
      "/opt/homebrew/Caskroom/miniforge/base/lib/python3.9/site-packages/prefect/tasks.py:270: UserWarning: A task named 'etl-gcs-to-bq' and defined at '/var/folders/h2/6110hgtx6b7400ybw7yjhn400000gn/T/ipykernel_24489/693090197.py:2' conflicts with another task. Consider specifying a unique `name` parameter in the task definition:\n",
      "\n",
      " `@task(name='my_unique_name', ...)`\n",
      "  warnings.warn(\n"
     ]
    },
    {
     "data": {
      "text/html": [
       "<pre style=\"white-space:pre;overflow-x:auto;line-height:normal;font-family:Menlo,'DejaVu Sans Mono',consolas,'Courier New',monospace\">12:05:01.735 | <span style=\"color: #008080; text-decoration-color: #008080\">INFO</span>    | Flow run<span style=\"color: #800080; text-decoration-color: #800080\"> 'aquamarine-echidna'</span> - Created subflow run<span style=\"color: #800080; text-decoration-color: #800080\"> 'wooden-parakeet'</span> for flow<span style=\"color: #800080; text-decoration-color: #800080; font-weight: bold\"> 'etl-gcs-to-bq'</span>\n",
       "</pre>\n"
      ],
      "text/plain": [
       "12:05:01.735 | \u001b[36mINFO\u001b[0m    | Flow run\u001b[35m 'aquamarine-echidna'\u001b[0m - Created subflow run\u001b[35m 'wooden-parakeet'\u001b[0m for flow\u001b[1;35m 'etl-gcs-to-bq'\u001b[0m\n"
      ]
     },
     "metadata": {},
     "output_type": "display_data"
    },
    {
     "data": {
      "text/html": [
       "<pre style=\"white-space:pre;overflow-x:auto;line-height:normal;font-family:Menlo,'DejaVu Sans Mono',consolas,'Courier New',monospace\">12:05:02.806 | <span style=\"color: #008080; text-decoration-color: #008080\">INFO</span>    | Flow run<span style=\"color: #800080; text-decoration-color: #800080\"> 'wooden-parakeet'</span> - Created task run 'get-gcp-creds-0' for task 'get-gcp-creds'\n",
       "</pre>\n"
      ],
      "text/plain": [
       "12:05:02.806 | \u001b[36mINFO\u001b[0m    | Flow run\u001b[35m 'wooden-parakeet'\u001b[0m - Created task run 'get-gcp-creds-0' for task 'get-gcp-creds'\n"
      ]
     },
     "metadata": {},
     "output_type": "display_data"
    },
    {
     "data": {
      "text/html": [
       "<pre style=\"white-space:pre;overflow-x:auto;line-height:normal;font-family:Menlo,'DejaVu Sans Mono',consolas,'Courier New',monospace\">12:05:02.809 | <span style=\"color: #008080; text-decoration-color: #008080\">INFO</span>    | Flow run<span style=\"color: #800080; text-decoration-color: #800080\"> 'wooden-parakeet'</span> - Executing 'get-gcp-creds-0' immediately...\n",
       "</pre>\n"
      ],
      "text/plain": [
       "12:05:02.809 | \u001b[36mINFO\u001b[0m    | Flow run\u001b[35m 'wooden-parakeet'\u001b[0m - Executing 'get-gcp-creds-0' immediately...\n"
      ]
     },
     "metadata": {},
     "output_type": "display_data"
    },
    {
     "data": {
      "text/html": [
       "<pre style=\"white-space:pre;overflow-x:auto;line-height:normal;font-family:Menlo,'DejaVu Sans Mono',consolas,'Courier New',monospace\">12:05:05.075 | <span style=\"color: #008080; text-decoration-color: #008080\">INFO</span>    | Task run 'get-gcp-creds-0' - Finished in state <span style=\"color: #008000; text-decoration-color: #008000\">Completed</span>()\n",
       "</pre>\n"
      ],
      "text/plain": [
       "12:05:05.075 | \u001b[36mINFO\u001b[0m    | Task run 'get-gcp-creds-0' - Finished in state \u001b[32mCompleted\u001b[0m()\n"
      ]
     },
     "metadata": {},
     "output_type": "display_data"
    },
    {
     "data": {
      "text/html": [
       "<pre style=\"white-space:pre;overflow-x:auto;line-height:normal;font-family:Menlo,'DejaVu Sans Mono',consolas,'Courier New',monospace\">12:05:16.676 | <span style=\"color: #008080; text-decoration-color: #008080\">INFO</span>    | Flow run<span style=\"color: #800080; text-decoration-color: #800080\"> 'aquamarine-echidna'</span> - Traceback (most recent call last):\n",
       "</pre>\n"
      ],
      "text/plain": [
       "12:05:16.676 | \u001b[36mINFO\u001b[0m    | Flow run\u001b[35m 'aquamarine-echidna'\u001b[0m - Traceback (most recent call last):\n"
      ]
     },
     "metadata": {},
     "output_type": "display_data"
    },
    {
     "data": {
      "text/html": [
       "<pre style=\"white-space:pre;overflow-x:auto;line-height:normal;font-family:Menlo,'DejaVu Sans Mono',consolas,'Courier New',monospace\">12:05:16.690 | <span style=\"color: #008080; text-decoration-color: #008080\">INFO</span>    | Flow run<span style=\"color: #800080; text-decoration-color: #800080\"> 'aquamarine-echidna'</span> -   File \"/opt/homebrew/Caskroom/miniforge/base/lib/python3.9/site-packages/prefect/engine.py\", line 665, in orchestrate_flow_run\n",
       "    result = await run_sync(flow_call)\n",
       "</pre>\n"
      ],
      "text/plain": [
       "12:05:16.690 | \u001b[36mINFO\u001b[0m    | Flow run\u001b[35m 'aquamarine-echidna'\u001b[0m -   File \"/opt/homebrew/Caskroom/miniforge/base/lib/python3.9/site-packages/prefect/engine.py\", line 665, in orchestrate_flow_run\n",
       "    result = await run_sync(flow_call)\n"
      ]
     },
     "metadata": {},
     "output_type": "display_data"
    },
    {
     "data": {
      "text/html": [
       "<pre style=\"white-space:pre;overflow-x:auto;line-height:normal;font-family:Menlo,'DejaVu Sans Mono',consolas,'Courier New',monospace\">12:05:16.692 | <span style=\"color: #008080; text-decoration-color: #008080\">INFO</span>    | Flow run<span style=\"color: #800080; text-decoration-color: #800080\"> 'aquamarine-echidna'</span> -   File \"/opt/homebrew/Caskroom/miniforge/base/lib/python3.9/site-packages/prefect/utilities/asyncutils.py\", line 156, in run_sync_in_interruptible_worker_thread\n",
       "    tg.start_soon(\n",
       "</pre>\n"
      ],
      "text/plain": [
       "12:05:16.692 | \u001b[36mINFO\u001b[0m    | Flow run\u001b[35m 'aquamarine-echidna'\u001b[0m -   File \"/opt/homebrew/Caskroom/miniforge/base/lib/python3.9/site-packages/prefect/utilities/asyncutils.py\", line 156, in run_sync_in_interruptible_worker_thread\n",
       "    tg.start_soon(\n"
      ]
     },
     "metadata": {},
     "output_type": "display_data"
    },
    {
     "data": {
      "text/html": [
       "<pre style=\"white-space:pre;overflow-x:auto;line-height:normal;font-family:Menlo,'DejaVu Sans Mono',consolas,'Courier New',monospace\">12:05:16.693 | <span style=\"color: #008080; text-decoration-color: #008080\">INFO</span>    | Flow run<span style=\"color: #800080; text-decoration-color: #800080\"> 'aquamarine-echidna'</span> -   File \"/opt/homebrew/Caskroom/miniforge/base/lib/python3.9/site-packages/anyio/_backends/_asyncio.py\", line 662, in __aexit__\n",
       "    raise exceptions[0]\n",
       "</pre>\n"
      ],
      "text/plain": [
       "12:05:16.693 | \u001b[36mINFO\u001b[0m    | Flow run\u001b[35m 'aquamarine-echidna'\u001b[0m -   File \"/opt/homebrew/Caskroom/miniforge/base/lib/python3.9/site-packages/anyio/_backends/_asyncio.py\", line 662, in __aexit__\n",
       "    raise exceptions[0]\n"
      ]
     },
     "metadata": {},
     "output_type": "display_data"
    },
    {
     "data": {
      "text/html": [
       "<pre style=\"white-space:pre;overflow-x:auto;line-height:normal;font-family:Menlo,'DejaVu Sans Mono',consolas,'Courier New',monospace\">12:05:16.694 | <span style=\"color: #008080; text-decoration-color: #008080\">INFO</span>    | Flow run<span style=\"color: #800080; text-decoration-color: #800080\"> 'aquamarine-echidna'</span> -   File \"/opt/homebrew/Caskroom/miniforge/base/lib/python3.9/site-packages/anyio/to_thread.py\", line 31, in run_sync\n",
       "    return await get_asynclib().run_sync_in_worker_thread(\n",
       "</pre>\n"
      ],
      "text/plain": [
       "12:05:16.694 | \u001b[36mINFO\u001b[0m    | Flow run\u001b[35m 'aquamarine-echidna'\u001b[0m -   File \"/opt/homebrew/Caskroom/miniforge/base/lib/python3.9/site-packages/anyio/to_thread.py\", line 31, in run_sync\n",
       "    return await get_asynclib().run_sync_in_worker_thread(\n"
      ]
     },
     "metadata": {},
     "output_type": "display_data"
    },
    {
     "data": {
      "text/html": [
       "<pre style=\"white-space:pre;overflow-x:auto;line-height:normal;font-family:Menlo,'DejaVu Sans Mono',consolas,'Courier New',monospace\">12:05:16.695 | <span style=\"color: #008080; text-decoration-color: #008080\">INFO</span>    | Flow run<span style=\"color: #800080; text-decoration-color: #800080\"> 'aquamarine-echidna'</span> -   File \"/opt/homebrew/Caskroom/miniforge/base/lib/python3.9/site-packages/anyio/_backends/_asyncio.py\", line 937, in run_sync_in_worker_thread\n",
       "    return await future\n",
       "</pre>\n"
      ],
      "text/plain": [
       "12:05:16.695 | \u001b[36mINFO\u001b[0m    | Flow run\u001b[35m 'aquamarine-echidna'\u001b[0m -   File \"/opt/homebrew/Caskroom/miniforge/base/lib/python3.9/site-packages/anyio/_backends/_asyncio.py\", line 937, in run_sync_in_worker_thread\n",
       "    return await future\n"
      ]
     },
     "metadata": {},
     "output_type": "display_data"
    },
    {
     "data": {
      "text/html": [
       "<pre style=\"white-space:pre;overflow-x:auto;line-height:normal;font-family:Menlo,'DejaVu Sans Mono',consolas,'Courier New',monospace\">12:05:16.695 | <span style=\"color: #008080; text-decoration-color: #008080\">INFO</span>    | Flow run<span style=\"color: #800080; text-decoration-color: #800080\"> 'aquamarine-echidna'</span> -   File \"/opt/homebrew/Caskroom/miniforge/base/lib/python3.9/site-packages/anyio/_backends/_asyncio.py\", line 867, in run\n",
       "    result = context.run(func, *args)\n",
       "</pre>\n"
      ],
      "text/plain": [
       "12:05:16.695 | \u001b[36mINFO\u001b[0m    | Flow run\u001b[35m 'aquamarine-echidna'\u001b[0m -   File \"/opt/homebrew/Caskroom/miniforge/base/lib/python3.9/site-packages/anyio/_backends/_asyncio.py\", line 867, in run\n",
       "    result = context.run(func, *args)\n"
      ]
     },
     "metadata": {},
     "output_type": "display_data"
    },
    {
     "data": {
      "text/html": [
       "<pre style=\"white-space:pre;overflow-x:auto;line-height:normal;font-family:Menlo,'DejaVu Sans Mono',consolas,'Courier New',monospace\">12:05:16.696 | <span style=\"color: #008080; text-decoration-color: #008080\">INFO</span>    | Flow run<span style=\"color: #800080; text-decoration-color: #800080\"> 'aquamarine-echidna'</span> -   File \"/opt/homebrew/Caskroom/miniforge/base/lib/python3.9/site-packages/prefect/utilities/asyncutils.py\", line 135, in capture_worker_thread_and_result\n",
       "    result = __fn(*args, **kwargs)\n",
       "</pre>\n"
      ],
      "text/plain": [
       "12:05:16.696 | \u001b[36mINFO\u001b[0m    | Flow run\u001b[35m 'aquamarine-echidna'\u001b[0m -   File \"/opt/homebrew/Caskroom/miniforge/base/lib/python3.9/site-packages/prefect/utilities/asyncutils.py\", line 135, in capture_worker_thread_and_result\n",
       "    result = __fn(*args, **kwargs)\n"
      ]
     },
     "metadata": {},
     "output_type": "display_data"
    },
    {
     "data": {
      "text/html": [
       "<pre style=\"white-space:pre;overflow-x:auto;line-height:normal;font-family:Menlo,'DejaVu Sans Mono',consolas,'Courier New',monospace\">12:05:16.697 | <span style=\"color: #008080; text-decoration-color: #008080\">INFO</span>    | Flow run<span style=\"color: #800080; text-decoration-color: #800080\"> 'aquamarine-echidna'</span> -   File \"/var/folders/h2/6110hgtx6b7400ybw7yjhn400000gn/T/ipykernel_24489/693090197.py\", line 53, in etl_gcs_to_bq\n",
       "    load_job = client.load_table_from_uri(\n",
       "</pre>\n"
      ],
      "text/plain": [
       "12:05:16.697 | \u001b[36mINFO\u001b[0m    | Flow run\u001b[35m 'aquamarine-echidna'\u001b[0m -   File \"/var/folders/h2/6110hgtx6b7400ybw7yjhn400000gn/T/ipykernel_24489/693090197.py\", line 53, in etl_gcs_to_bq\n",
       "    load_job = client.load_table_from_uri(\n"
      ]
     },
     "metadata": {},
     "output_type": "display_data"
    },
    {
     "data": {
      "text/html": [
       "<pre style=\"white-space:pre;overflow-x:auto;line-height:normal;font-family:Menlo,'DejaVu Sans Mono',consolas,'Courier New',monospace\">12:05:16.698 | <span style=\"color: #008080; text-decoration-color: #008080\">INFO</span>    | Flow run<span style=\"color: #800080; text-decoration-color: #800080\"> 'aquamarine-echidna'</span> -   File \"/opt/homebrew/Caskroom/miniforge/base/lib/python3.9/site-packages/google/cloud/bigquery/client.py\", line 2363, in load_table_from_uri\n",
       "    load_job._begin(retry=retry, timeout=timeout)\n",
       "</pre>\n"
      ],
      "text/plain": [
       "12:05:16.698 | \u001b[36mINFO\u001b[0m    | Flow run\u001b[35m 'aquamarine-echidna'\u001b[0m -   File \"/opt/homebrew/Caskroom/miniforge/base/lib/python3.9/site-packages/google/cloud/bigquery/client.py\", line 2363, in load_table_from_uri\n",
       "    load_job._begin(retry=retry, timeout=timeout)\n"
      ]
     },
     "metadata": {},
     "output_type": "display_data"
    },
    {
     "data": {
      "text/html": [
       "<pre style=\"white-space:pre;overflow-x:auto;line-height:normal;font-family:Menlo,'DejaVu Sans Mono',consolas,'Courier New',monospace\">12:05:16.699 | <span style=\"color: #008080; text-decoration-color: #008080\">INFO</span>    | Flow run<span style=\"color: #800080; text-decoration-color: #800080\"> 'aquamarine-echidna'</span> -   File \"/opt/homebrew/Caskroom/miniforge/base/lib/python3.9/site-packages/google/cloud/bigquery/job/base.py\", line 510, in _begin\n",
       "    api_response = client._call_api(\n",
       "</pre>\n"
      ],
      "text/plain": [
       "12:05:16.699 | \u001b[36mINFO\u001b[0m    | Flow run\u001b[35m 'aquamarine-echidna'\u001b[0m -   File \"/opt/homebrew/Caskroom/miniforge/base/lib/python3.9/site-packages/google/cloud/bigquery/job/base.py\", line 510, in _begin\n",
       "    api_response = client._call_api(\n"
      ]
     },
     "metadata": {},
     "output_type": "display_data"
    },
    {
     "data": {
      "text/html": [
       "<pre style=\"white-space:pre;overflow-x:auto;line-height:normal;font-family:Menlo,'DejaVu Sans Mono',consolas,'Courier New',monospace\">12:05:16.700 | <span style=\"color: #008080; text-decoration-color: #008080\">INFO</span>    | Flow run<span style=\"color: #800080; text-decoration-color: #800080\"> 'aquamarine-echidna'</span> -   File \"/opt/homebrew/Caskroom/miniforge/base/lib/python3.9/site-packages/google/cloud/bigquery/client.py\", line 797, in _call_api\n",
       "    return call()\n",
       "</pre>\n"
      ],
      "text/plain": [
       "12:05:16.700 | \u001b[36mINFO\u001b[0m    | Flow run\u001b[35m 'aquamarine-echidna'\u001b[0m -   File \"/opt/homebrew/Caskroom/miniforge/base/lib/python3.9/site-packages/google/cloud/bigquery/client.py\", line 797, in _call_api\n",
       "    return call()\n"
      ]
     },
     "metadata": {},
     "output_type": "display_data"
    },
    {
     "data": {
      "text/html": [
       "<pre style=\"white-space:pre;overflow-x:auto;line-height:normal;font-family:Menlo,'DejaVu Sans Mono',consolas,'Courier New',monospace\">12:05:16.700 | <span style=\"color: #008080; text-decoration-color: #008080\">INFO</span>    | Flow run<span style=\"color: #800080; text-decoration-color: #800080\"> 'aquamarine-echidna'</span> -   File \"/opt/homebrew/Caskroom/miniforge/base/lib/python3.9/site-packages/google/api_core/retry.py\", line 349, in retry_wrapped_func\n",
       "    return retry_target(\n",
       "</pre>\n"
      ],
      "text/plain": [
       "12:05:16.700 | \u001b[36mINFO\u001b[0m    | Flow run\u001b[35m 'aquamarine-echidna'\u001b[0m -   File \"/opt/homebrew/Caskroom/miniforge/base/lib/python3.9/site-packages/google/api_core/retry.py\", line 349, in retry_wrapped_func\n",
       "    return retry_target(\n"
      ]
     },
     "metadata": {},
     "output_type": "display_data"
    },
    {
     "data": {
      "text/html": [
       "<pre style=\"white-space:pre;overflow-x:auto;line-height:normal;font-family:Menlo,'DejaVu Sans Mono',consolas,'Courier New',monospace\">12:05:16.701 | <span style=\"color: #008080; text-decoration-color: #008080\">INFO</span>    | Flow run<span style=\"color: #800080; text-decoration-color: #800080\"> 'aquamarine-echidna'</span> -   File \"/opt/homebrew/Caskroom/miniforge/base/lib/python3.9/site-packages/google/api_core/retry.py\", line 191, in retry_target\n",
       "    return target()\n",
       "</pre>\n"
      ],
      "text/plain": [
       "12:05:16.701 | \u001b[36mINFO\u001b[0m    | Flow run\u001b[35m 'aquamarine-echidna'\u001b[0m -   File \"/opt/homebrew/Caskroom/miniforge/base/lib/python3.9/site-packages/google/api_core/retry.py\", line 191, in retry_target\n",
       "    return target()\n"
      ]
     },
     "metadata": {},
     "output_type": "display_data"
    },
    {
     "data": {
      "text/html": [
       "<pre style=\"white-space:pre;overflow-x:auto;line-height:normal;font-family:Menlo,'DejaVu Sans Mono',consolas,'Courier New',monospace\">12:05:16.702 | <span style=\"color: #008080; text-decoration-color: #008080\">INFO</span>    | Flow run<span style=\"color: #800080; text-decoration-color: #800080\"> 'aquamarine-echidna'</span> -   File \"/opt/homebrew/Caskroom/miniforge/base/lib/python3.9/site-packages/google/cloud/_http/__init__.py\", line 494, in api_request\n",
       "    raise exceptions.from_http_response(response)\n",
       "</pre>\n"
      ],
      "text/plain": [
       "12:05:16.702 | \u001b[36mINFO\u001b[0m    | Flow run\u001b[35m 'aquamarine-echidna'\u001b[0m -   File \"/opt/homebrew/Caskroom/miniforge/base/lib/python3.9/site-packages/google/cloud/_http/__init__.py\", line 494, in api_request\n",
       "    raise exceptions.from_http_response(response)\n"
      ]
     },
     "metadata": {},
     "output_type": "display_data"
    },
    {
     "data": {
      "text/html": [
       "<pre style=\"white-space:pre;overflow-x:auto;line-height:normal;font-family:Menlo,'DejaVu Sans Mono',consolas,'Courier New',monospace\">12:05:16.703 | <span style=\"color: #008080; text-decoration-color: #008080\">INFO</span>    | Flow run<span style=\"color: #800080; text-decoration-color: #800080\"> 'aquamarine-echidna'</span> - google.api_core.exceptions.BadRequest: 400 POST <span style=\"color: #0000ff; text-decoration-color: #0000ff\">https://bigquery.googleapis.com/bigquery/v2/projects/dtc-de-2023/jobs?prettyPrint=false:</span> Invalid field name \"byArtist_@type\". Fields must contain the allowed characters, and be at most 300 characters long. For allowed characters, please refer to <span style=\"color: #0000ff; text-decoration-color: #0000ff\">https://cloud.google.com/bigquery/docs/schemas#column_names</span>\n",
       "</pre>\n"
      ],
      "text/plain": [
       "12:05:16.703 | \u001b[36mINFO\u001b[0m    | Flow run\u001b[35m 'aquamarine-echidna'\u001b[0m - google.api_core.exceptions.BadRequest: 400 POST \u001b[94mhttps://bigquery.googleapis.com/bigquery/v2/projects/dtc-de-2023/jobs?prettyPrint=false:\u001b[0m Invalid field name \"byArtist_@type\". Fields must contain the allowed characters, and be at most 300 characters long. For allowed characters, please refer to \u001b[94mhttps://cloud.google.com/bigquery/docs/schemas#column_names\u001b[0m\n"
      ]
     },
     "metadata": {},
     "output_type": "display_data"
    },
    {
     "data": {
      "text/html": [
       "<pre style=\"white-space:pre;overflow-x:auto;line-height:normal;font-family:Menlo,'DejaVu Sans Mono',consolas,'Courier New',monospace\">12:05:16.705 | <span style=\"color: #008080; text-decoration-color: #008080\">INFO</span>    | Flow run<span style=\"color: #800080; text-decoration-color: #800080\"> 'aquamarine-echidna'</span> - Traceback (most recent call last):\n",
       "</pre>\n"
      ],
      "text/plain": [
       "12:05:16.705 | \u001b[36mINFO\u001b[0m    | Flow run\u001b[35m 'aquamarine-echidna'\u001b[0m - Traceback (most recent call last):\n"
      ]
     },
     "metadata": {},
     "output_type": "display_data"
    },
    {
     "data": {
      "text/html": [
       "<pre style=\"white-space:pre;overflow-x:auto;line-height:normal;font-family:Menlo,'DejaVu Sans Mono',consolas,'Courier New',monospace\">12:05:16.706 | <span style=\"color: #008080; text-decoration-color: #008080\">INFO</span>    | Flow run<span style=\"color: #800080; text-decoration-color: #800080\"> 'aquamarine-echidna'</span> -   File \"/opt/homebrew/Caskroom/miniforge/base/lib/python3.9/site-packages/prefect/engine.py\", line 665, in orchestrate_flow_run\n",
       "    result = await run_sync(flow_call)\n",
       "</pre>\n"
      ],
      "text/plain": [
       "12:05:16.706 | \u001b[36mINFO\u001b[0m    | Flow run\u001b[35m 'aquamarine-echidna'\u001b[0m -   File \"/opt/homebrew/Caskroom/miniforge/base/lib/python3.9/site-packages/prefect/engine.py\", line 665, in orchestrate_flow_run\n",
       "    result = await run_sync(flow_call)\n"
      ]
     },
     "metadata": {},
     "output_type": "display_data"
    },
    {
     "data": {
      "text/html": [
       "<pre style=\"white-space:pre;overflow-x:auto;line-height:normal;font-family:Menlo,'DejaVu Sans Mono',consolas,'Courier New',monospace\">12:05:16.707 | <span style=\"color: #008080; text-decoration-color: #008080\">INFO</span>    | Flow run<span style=\"color: #800080; text-decoration-color: #800080\"> 'aquamarine-echidna'</span> -   File \"/opt/homebrew/Caskroom/miniforge/base/lib/python3.9/site-packages/prefect/utilities/asyncutils.py\", line 156, in run_sync_in_interruptible_worker_thread\n",
       "    tg.start_soon(\n",
       "</pre>\n"
      ],
      "text/plain": [
       "12:05:16.707 | \u001b[36mINFO\u001b[0m    | Flow run\u001b[35m 'aquamarine-echidna'\u001b[0m -   File \"/opt/homebrew/Caskroom/miniforge/base/lib/python3.9/site-packages/prefect/utilities/asyncutils.py\", line 156, in run_sync_in_interruptible_worker_thread\n",
       "    tg.start_soon(\n"
      ]
     },
     "metadata": {},
     "output_type": "display_data"
    },
    {
     "data": {
      "text/html": [
       "<pre style=\"white-space:pre;overflow-x:auto;line-height:normal;font-family:Menlo,'DejaVu Sans Mono',consolas,'Courier New',monospace\">12:05:16.708 | <span style=\"color: #008080; text-decoration-color: #008080\">INFO</span>    | Flow run<span style=\"color: #800080; text-decoration-color: #800080\"> 'aquamarine-echidna'</span> -   File \"/opt/homebrew/Caskroom/miniforge/base/lib/python3.9/site-packages/anyio/_backends/_asyncio.py\", line 662, in __aexit__\n",
       "    raise exceptions[0]\n",
       "</pre>\n"
      ],
      "text/plain": [
       "12:05:16.708 | \u001b[36mINFO\u001b[0m    | Flow run\u001b[35m 'aquamarine-echidna'\u001b[0m -   File \"/opt/homebrew/Caskroom/miniforge/base/lib/python3.9/site-packages/anyio/_backends/_asyncio.py\", line 662, in __aexit__\n",
       "    raise exceptions[0]\n"
      ]
     },
     "metadata": {},
     "output_type": "display_data"
    },
    {
     "data": {
      "text/html": [
       "<pre style=\"white-space:pre;overflow-x:auto;line-height:normal;font-family:Menlo,'DejaVu Sans Mono',consolas,'Courier New',monospace\">12:05:16.709 | <span style=\"color: #008080; text-decoration-color: #008080\">INFO</span>    | Flow run<span style=\"color: #800080; text-decoration-color: #800080\"> 'aquamarine-echidna'</span> -   File \"/opt/homebrew/Caskroom/miniforge/base/lib/python3.9/site-packages/anyio/to_thread.py\", line 31, in run_sync\n",
       "    return await get_asynclib().run_sync_in_worker_thread(\n",
       "</pre>\n"
      ],
      "text/plain": [
       "12:05:16.709 | \u001b[36mINFO\u001b[0m    | Flow run\u001b[35m 'aquamarine-echidna'\u001b[0m -   File \"/opt/homebrew/Caskroom/miniforge/base/lib/python3.9/site-packages/anyio/to_thread.py\", line 31, in run_sync\n",
       "    return await get_asynclib().run_sync_in_worker_thread(\n"
      ]
     },
     "metadata": {},
     "output_type": "display_data"
    },
    {
     "data": {
      "text/html": [
       "<pre style=\"white-space:pre;overflow-x:auto;line-height:normal;font-family:Menlo,'DejaVu Sans Mono',consolas,'Courier New',monospace\">12:05:16.710 | <span style=\"color: #008080; text-decoration-color: #008080\">INFO</span>    | Flow run<span style=\"color: #800080; text-decoration-color: #800080\"> 'aquamarine-echidna'</span> -   File \"/opt/homebrew/Caskroom/miniforge/base/lib/python3.9/site-packages/anyio/_backends/_asyncio.py\", line 937, in run_sync_in_worker_thread\n",
       "    return await future\n",
       "</pre>\n"
      ],
      "text/plain": [
       "12:05:16.710 | \u001b[36mINFO\u001b[0m    | Flow run\u001b[35m 'aquamarine-echidna'\u001b[0m -   File \"/opt/homebrew/Caskroom/miniforge/base/lib/python3.9/site-packages/anyio/_backends/_asyncio.py\", line 937, in run_sync_in_worker_thread\n",
       "    return await future\n"
      ]
     },
     "metadata": {},
     "output_type": "display_data"
    },
    {
     "data": {
      "text/html": [
       "<pre style=\"white-space:pre;overflow-x:auto;line-height:normal;font-family:Menlo,'DejaVu Sans Mono',consolas,'Courier New',monospace\">12:05:16.711 | <span style=\"color: #008080; text-decoration-color: #008080\">INFO</span>    | Flow run<span style=\"color: #800080; text-decoration-color: #800080\"> 'aquamarine-echidna'</span> -   File \"/opt/homebrew/Caskroom/miniforge/base/lib/python3.9/site-packages/anyio/_backends/_asyncio.py\", line 867, in run\n",
       "    result = context.run(func, *args)\n",
       "</pre>\n"
      ],
      "text/plain": [
       "12:05:16.711 | \u001b[36mINFO\u001b[0m    | Flow run\u001b[35m 'aquamarine-echidna'\u001b[0m -   File \"/opt/homebrew/Caskroom/miniforge/base/lib/python3.9/site-packages/anyio/_backends/_asyncio.py\", line 867, in run\n",
       "    result = context.run(func, *args)\n"
      ]
     },
     "metadata": {},
     "output_type": "display_data"
    },
    {
     "data": {
      "text/html": [
       "<pre style=\"white-space:pre;overflow-x:auto;line-height:normal;font-family:Menlo,'DejaVu Sans Mono',consolas,'Courier New',monospace\">12:05:16.712 | <span style=\"color: #008080; text-decoration-color: #008080\">INFO</span>    | Flow run<span style=\"color: #800080; text-decoration-color: #800080\"> 'aquamarine-echidna'</span> -   File \"/opt/homebrew/Caskroom/miniforge/base/lib/python3.9/site-packages/prefect/utilities/asyncutils.py\", line 135, in capture_worker_thread_and_result\n",
       "    result = __fn(*args, **kwargs)\n",
       "</pre>\n"
      ],
      "text/plain": [
       "12:05:16.712 | \u001b[36mINFO\u001b[0m    | Flow run\u001b[35m 'aquamarine-echidna'\u001b[0m -   File \"/opt/homebrew/Caskroom/miniforge/base/lib/python3.9/site-packages/prefect/utilities/asyncutils.py\", line 135, in capture_worker_thread_and_result\n",
       "    result = __fn(*args, **kwargs)\n"
      ]
     },
     "metadata": {},
     "output_type": "display_data"
    },
    {
     "data": {
      "text/html": [
       "<pre style=\"white-space:pre;overflow-x:auto;line-height:normal;font-family:Menlo,'DejaVu Sans Mono',consolas,'Courier New',monospace\">12:05:16.713 | <span style=\"color: #008080; text-decoration-color: #008080\">INFO</span>    | Flow run<span style=\"color: #800080; text-decoration-color: #800080\"> 'aquamarine-echidna'</span> -   File \"/var/folders/h2/6110hgtx6b7400ybw7yjhn400000gn/T/ipykernel_24489/693090197.py\", line 53, in etl_gcs_to_bq\n",
       "    load_job = client.load_table_from_uri(\n",
       "</pre>\n"
      ],
      "text/plain": [
       "12:05:16.713 | \u001b[36mINFO\u001b[0m    | Flow run\u001b[35m 'aquamarine-echidna'\u001b[0m -   File \"/var/folders/h2/6110hgtx6b7400ybw7yjhn400000gn/T/ipykernel_24489/693090197.py\", line 53, in etl_gcs_to_bq\n",
       "    load_job = client.load_table_from_uri(\n"
      ]
     },
     "metadata": {},
     "output_type": "display_data"
    },
    {
     "data": {
      "text/html": [
       "<pre style=\"white-space:pre;overflow-x:auto;line-height:normal;font-family:Menlo,'DejaVu Sans Mono',consolas,'Courier New',monospace\">12:05:16.714 | <span style=\"color: #008080; text-decoration-color: #008080\">INFO</span>    | Flow run<span style=\"color: #800080; text-decoration-color: #800080\"> 'aquamarine-echidna'</span> -   File \"/opt/homebrew/Caskroom/miniforge/base/lib/python3.9/site-packages/google/cloud/bigquery/client.py\", line 2363, in load_table_from_uri\n",
       "    load_job._begin(retry=retry, timeout=timeout)\n",
       "</pre>\n"
      ],
      "text/plain": [
       "12:05:16.714 | \u001b[36mINFO\u001b[0m    | Flow run\u001b[35m 'aquamarine-echidna'\u001b[0m -   File \"/opt/homebrew/Caskroom/miniforge/base/lib/python3.9/site-packages/google/cloud/bigquery/client.py\", line 2363, in load_table_from_uri\n",
       "    load_job._begin(retry=retry, timeout=timeout)\n"
      ]
     },
     "metadata": {},
     "output_type": "display_data"
    },
    {
     "data": {
      "text/html": [
       "<pre style=\"white-space:pre;overflow-x:auto;line-height:normal;font-family:Menlo,'DejaVu Sans Mono',consolas,'Courier New',monospace\">12:05:16.716 | <span style=\"color: #008080; text-decoration-color: #008080\">INFO</span>    | Flow run<span style=\"color: #800080; text-decoration-color: #800080\"> 'aquamarine-echidna'</span> -   File \"/opt/homebrew/Caskroom/miniforge/base/lib/python3.9/site-packages/google/cloud/bigquery/job/base.py\", line 510, in _begin\n",
       "    api_response = client._call_api(\n",
       "</pre>\n"
      ],
      "text/plain": [
       "12:05:16.716 | \u001b[36mINFO\u001b[0m    | Flow run\u001b[35m 'aquamarine-echidna'\u001b[0m -   File \"/opt/homebrew/Caskroom/miniforge/base/lib/python3.9/site-packages/google/cloud/bigquery/job/base.py\", line 510, in _begin\n",
       "    api_response = client._call_api(\n"
      ]
     },
     "metadata": {},
     "output_type": "display_data"
    },
    {
     "data": {
      "text/html": [
       "<pre style=\"white-space:pre;overflow-x:auto;line-height:normal;font-family:Menlo,'DejaVu Sans Mono',consolas,'Courier New',monospace\">12:05:16.716 | <span style=\"color: #008080; text-decoration-color: #008080\">INFO</span>    | Flow run<span style=\"color: #800080; text-decoration-color: #800080\"> 'aquamarine-echidna'</span> -   File \"/opt/homebrew/Caskroom/miniforge/base/lib/python3.9/site-packages/google/cloud/bigquery/client.py\", line 797, in _call_api\n",
       "    return call()\n",
       "</pre>\n"
      ],
      "text/plain": [
       "12:05:16.716 | \u001b[36mINFO\u001b[0m    | Flow run\u001b[35m 'aquamarine-echidna'\u001b[0m -   File \"/opt/homebrew/Caskroom/miniforge/base/lib/python3.9/site-packages/google/cloud/bigquery/client.py\", line 797, in _call_api\n",
       "    return call()\n"
      ]
     },
     "metadata": {},
     "output_type": "display_data"
    },
    {
     "data": {
      "text/html": [
       "<pre style=\"white-space:pre;overflow-x:auto;line-height:normal;font-family:Menlo,'DejaVu Sans Mono',consolas,'Courier New',monospace\">12:05:16.718 | <span style=\"color: #008080; text-decoration-color: #008080\">INFO</span>    | Flow run<span style=\"color: #800080; text-decoration-color: #800080\"> 'aquamarine-echidna'</span> -   File \"/opt/homebrew/Caskroom/miniforge/base/lib/python3.9/site-packages/google/api_core/retry.py\", line 349, in retry_wrapped_func\n",
       "    return retry_target(\n",
       "</pre>\n"
      ],
      "text/plain": [
       "12:05:16.718 | \u001b[36mINFO\u001b[0m    | Flow run\u001b[35m 'aquamarine-echidna'\u001b[0m -   File \"/opt/homebrew/Caskroom/miniforge/base/lib/python3.9/site-packages/google/api_core/retry.py\", line 349, in retry_wrapped_func\n",
       "    return retry_target(\n"
      ]
     },
     "metadata": {},
     "output_type": "display_data"
    },
    {
     "data": {
      "text/html": [
       "<pre style=\"white-space:pre;overflow-x:auto;line-height:normal;font-family:Menlo,'DejaVu Sans Mono',consolas,'Courier New',monospace\">12:05:16.719 | <span style=\"color: #008080; text-decoration-color: #008080\">INFO</span>    | Flow run<span style=\"color: #800080; text-decoration-color: #800080\"> 'aquamarine-echidna'</span> -   File \"/opt/homebrew/Caskroom/miniforge/base/lib/python3.9/site-packages/google/api_core/retry.py\", line 191, in retry_target\n",
       "    return target()\n",
       "</pre>\n"
      ],
      "text/plain": [
       "12:05:16.719 | \u001b[36mINFO\u001b[0m    | Flow run\u001b[35m 'aquamarine-echidna'\u001b[0m -   File \"/opt/homebrew/Caskroom/miniforge/base/lib/python3.9/site-packages/google/api_core/retry.py\", line 191, in retry_target\n",
       "    return target()\n"
      ]
     },
     "metadata": {},
     "output_type": "display_data"
    },
    {
     "data": {
      "text/html": [
       "<pre style=\"white-space:pre;overflow-x:auto;line-height:normal;font-family:Menlo,'DejaVu Sans Mono',consolas,'Courier New',monospace\">12:05:16.720 | <span style=\"color: #008080; text-decoration-color: #008080\">INFO</span>    | Flow run<span style=\"color: #800080; text-decoration-color: #800080\"> 'aquamarine-echidna'</span> -   File \"/opt/homebrew/Caskroom/miniforge/base/lib/python3.9/site-packages/google/cloud/_http/__init__.py\", line 494, in api_request\n",
       "    raise exceptions.from_http_response(response)\n",
       "</pre>\n"
      ],
      "text/plain": [
       "12:05:16.720 | \u001b[36mINFO\u001b[0m    | Flow run\u001b[35m 'aquamarine-echidna'\u001b[0m -   File \"/opt/homebrew/Caskroom/miniforge/base/lib/python3.9/site-packages/google/cloud/_http/__init__.py\", line 494, in api_request\n",
       "    raise exceptions.from_http_response(response)\n"
      ]
     },
     "metadata": {},
     "output_type": "display_data"
    },
    {
     "data": {
      "text/html": [
       "<pre style=\"white-space:pre;overflow-x:auto;line-height:normal;font-family:Menlo,'DejaVu Sans Mono',consolas,'Courier New',monospace\">12:05:16.721 | <span style=\"color: #008080; text-decoration-color: #008080\">INFO</span>    | Flow run<span style=\"color: #800080; text-decoration-color: #800080\"> 'aquamarine-echidna'</span> - google.api_core.exceptions.BadRequest: 400 POST <span style=\"color: #0000ff; text-decoration-color: #0000ff\">https://bigquery.googleapis.com/bigquery/v2/projects/dtc-de-2023/jobs?prettyPrint=false:</span> Invalid field name \"byArtist_@type\". Fields must contain the allowed characters, and be at most 300 characters long. For allowed characters, please refer to <span style=\"color: #0000ff; text-decoration-color: #0000ff\">https://cloud.google.com/bigquery/docs/schemas#column_names</span>\n",
       "</pre>\n"
      ],
      "text/plain": [
       "12:05:16.721 | \u001b[36mINFO\u001b[0m    | Flow run\u001b[35m 'aquamarine-echidna'\u001b[0m - google.api_core.exceptions.BadRequest: 400 POST \u001b[94mhttps://bigquery.googleapis.com/bigquery/v2/projects/dtc-de-2023/jobs?prettyPrint=false:\u001b[0m Invalid field name \"byArtist_@type\". Fields must contain the allowed characters, and be at most 300 characters long. For allowed characters, please refer to \u001b[94mhttps://cloud.google.com/bigquery/docs/schemas#column_names\u001b[0m\n"
      ]
     },
     "metadata": {},
     "output_type": "display_data"
    },
    {
     "data": {
      "text/html": [
       "<pre style=\"white-space:pre;overflow-x:auto;line-height:normal;font-family:Menlo,'DejaVu Sans Mono',consolas,'Courier New',monospace\">12:05:16.664 | <span style=\"color: #d70000; text-decoration-color: #d70000\">ERROR</span>   | Flow run<span style=\"color: #800080; text-decoration-color: #800080\"> 'wooden-parakeet'</span> - Encountered exception during execution:\n",
       "</pre>\n"
      ],
      "text/plain": [
       "12:05:16.664 | \u001b[38;5;160mERROR\u001b[0m   | Flow run\u001b[35m 'wooden-parakeet'\u001b[0m - Encountered exception during execution:\n"
      ]
     },
     "metadata": {},
     "output_type": "display_data"
    },
    {
     "data": {
      "text/html": [
       "<pre style=\"white-space:pre;overflow-x:auto;line-height:normal;font-family:Menlo,'DejaVu Sans Mono',consolas,'Courier New',monospace\">12:05:17.192 | <span style=\"color: #d70000; text-decoration-color: #d70000\">ERROR</span>   | Flow run<span style=\"color: #800080; text-decoration-color: #800080\"> 'wooden-parakeet'</span> - Finished in state <span style=\"color: #d70000; text-decoration-color: #d70000\">Failed</span>('Flow run encountered an exception. google.api_core.exceptions.BadRequest: 400 POST <span style=\"color: #0000ff; text-decoration-color: #0000ff\">https://bigquery.googleapis.com/bigquery/v2/projects/dtc-de-2023/jobs?prettyPrint=false:</span> Invalid field name \"byArtist_@type\". Fields must contain the allowed characters, and be at most 300 characters long. For allowed characters, please refer to <span style=\"color: #0000ff; text-decoration-color: #0000ff\">https://cloud.google.com/bigquery/docs/schemas#column_names</span>\\n')\n",
       "</pre>\n"
      ],
      "text/plain": [
       "12:05:17.192 | \u001b[38;5;160mERROR\u001b[0m   | Flow run\u001b[35m 'wooden-parakeet'\u001b[0m - Finished in state \u001b[38;5;160mFailed\u001b[0m('Flow run encountered an exception. google.api_core.exceptions.BadRequest: 400 POST \u001b[94mhttps://bigquery.googleapis.com/bigquery/v2/projects/dtc-de-2023/jobs?prettyPrint=false:\u001b[0m Invalid field name \"byArtist_@type\". Fields must contain the allowed characters, and be at most 300 characters long. For allowed characters, please refer to \u001b[94mhttps://cloud.google.com/bigquery/docs/schemas#column_names\u001b[0m\\n')\n"
      ]
     },
     "metadata": {},
     "output_type": "display_data"
    },
    {
     "data": {
      "text/html": [
       "<pre style=\"white-space:pre;overflow-x:auto;line-height:normal;font-family:Menlo,'DejaVu Sans Mono',consolas,'Courier New',monospace\">12:05:17.201 | <span style=\"color: #d70000; text-decoration-color: #d70000\">ERROR</span>   | Flow run<span style=\"color: #800080; text-decoration-color: #800080\"> 'aquamarine-echidna'</span> - Encountered exception during execution:\n",
       "Traceback (most recent call last):\n",
       "  File \"/opt/homebrew/Caskroom/miniforge/base/lib/python3.9/site-packages/prefect/engine.py\", line 665, in orchestrate_flow_run\n",
       "    result = await run_sync(flow_call)\n",
       "  File \"/opt/homebrew/Caskroom/miniforge/base/lib/python3.9/site-packages/prefect/utilities/asyncutils.py\", line 156, in run_sync_in_interruptible_worker_thread\n",
       "    tg.start_soon(\n",
       "  File \"/opt/homebrew/Caskroom/miniforge/base/lib/python3.9/site-packages/anyio/_backends/_asyncio.py\", line 662, in __aexit__\n",
       "    raise exceptions[0]\n",
       "  File \"/opt/homebrew/Caskroom/miniforge/base/lib/python3.9/site-packages/anyio/to_thread.py\", line 31, in run_sync\n",
       "    return await get_asynclib().run_sync_in_worker_thread(\n",
       "  File \"/opt/homebrew/Caskroom/miniforge/base/lib/python3.9/site-packages/anyio/_backends/_asyncio.py\", line 937, in run_sync_in_worker_thread\n",
       "    return await future\n",
       "  File \"/opt/homebrew/Caskroom/miniforge/base/lib/python3.9/site-packages/anyio/_backends/_asyncio.py\", line 867, in run\n",
       "    result = context.run(func, *args)\n",
       "  File \"/opt/homebrew/Caskroom/miniforge/base/lib/python3.9/site-packages/prefect/utilities/asyncutils.py\", line 135, in capture_worker_thread_and_result\n",
       "    result = __fn(*args, **kwargs)\n",
       "  File \"/var/folders/h2/6110hgtx6b7400ybw7yjhn400000gn/T/ipykernel_24489/748791523.py\", line 5, in etl_parent_bq_flow\n",
       "    etl_gcs_to_bq(file_num)\n",
       "  File \"/opt/homebrew/Caskroom/miniforge/base/lib/python3.9/site-packages/prefect/flows.py\", line 468, in __call__\n",
       "    return enter_flow_run_engine_from_flow_call(\n",
       "  File \"/opt/homebrew/Caskroom/miniforge/base/lib/python3.9/site-packages/prefect/engine.py\", line 179, in enter_flow_run_engine_from_flow_call\n",
       "    return run_async_from_worker_thread(begin_run)\n",
       "  File \"/opt/homebrew/Caskroom/miniforge/base/lib/python3.9/site-packages/prefect/utilities/asyncutils.py\", line 177, in run_async_from_worker_thread\n",
       "    return anyio.from_thread.run(call)\n",
       "  File \"/opt/homebrew/Caskroom/miniforge/base/lib/python3.9/site-packages/anyio/from_thread.py\", line 49, in run\n",
       "    return asynclib.run_async_from_thread(func, *args)\n",
       "  File \"/opt/homebrew/Caskroom/miniforge/base/lib/python3.9/site-packages/anyio/_backends/_asyncio.py\", line 970, in run_async_from_thread\n",
       "    return f.result()\n",
       "  File \"/opt/homebrew/Caskroom/miniforge/base/lib/python3.9/concurrent/futures/_base.py\", line 446, in result\n",
       "    return self.__get_result()\n",
       "  File \"/opt/homebrew/Caskroom/miniforge/base/lib/python3.9/concurrent/futures/_base.py\", line 391, in __get_result\n",
       "    raise self._exception\n",
       "  File \"/opt/homebrew/Caskroom/miniforge/base/lib/python3.9/site-packages/prefect/client/utilities.py\", line 47, in with_injected_client\n",
       "    return await fn(*args, **kwargs)\n",
       "  File \"/opt/homebrew/Caskroom/miniforge/base/lib/python3.9/site-packages/prefect/engine.py\", line 568, in create_and_begin_subflow_run\n",
       "    return await terminal_state.result(fetch=True)\n",
       "  File \"/opt/homebrew/Caskroom/miniforge/base/lib/python3.9/site-packages/prefect/states.py\", line 91, in _get_state_result\n",
       "    raise await get_state_exception(state)\n",
       "  File \"/opt/homebrew/Caskroom/miniforge/base/lib/python3.9/site-packages/prefect/engine.py\", line 665, in orchestrate_flow_run\n",
       "    result = await run_sync(flow_call)\n",
       "  File \"/opt/homebrew/Caskroom/miniforge/base/lib/python3.9/site-packages/prefect/utilities/asyncutils.py\", line 156, in run_sync_in_interruptible_worker_thread\n",
       "    tg.start_soon(\n",
       "  File \"/opt/homebrew/Caskroom/miniforge/base/lib/python3.9/site-packages/anyio/_backends/_asyncio.py\", line 662, in __aexit__\n",
       "    raise exceptions[0]\n",
       "  File \"/opt/homebrew/Caskroom/miniforge/base/lib/python3.9/site-packages/anyio/to_thread.py\", line 31, in run_sync\n",
       "    return await get_asynclib().run_sync_in_worker_thread(\n",
       "  File \"/opt/homebrew/Caskroom/miniforge/base/lib/python3.9/site-packages/anyio/_backends/_asyncio.py\", line 937, in run_sync_in_worker_thread\n",
       "    return await future\n",
       "  File \"/opt/homebrew/Caskroom/miniforge/base/lib/python3.9/site-packages/anyio/_backends/_asyncio.py\", line 867, in run\n",
       "    result = context.run(func, *args)\n",
       "  File \"/opt/homebrew/Caskroom/miniforge/base/lib/python3.9/site-packages/prefect/utilities/asyncutils.py\", line 135, in capture_worker_thread_and_result\n",
       "    result = __fn(*args, **kwargs)\n",
       "  File \"/var/folders/h2/6110hgtx6b7400ybw7yjhn400000gn/T/ipykernel_24489/693090197.py\", line 53, in etl_gcs_to_bq\n",
       "    load_job = client.load_table_from_uri(\n",
       "  File \"/opt/homebrew/Caskroom/miniforge/base/lib/python3.9/site-packages/google/cloud/bigquery/client.py\", line 2363, in load_table_from_uri\n",
       "    load_job._begin(retry=retry, timeout=timeout)\n",
       "  File \"/opt/homebrew/Caskroom/miniforge/base/lib/python3.9/site-packages/google/cloud/bigquery/job/base.py\", line 510, in _begin\n",
       "    api_response = client._call_api(\n",
       "  File \"/opt/homebrew/Caskroom/miniforge/base/lib/python3.9/site-packages/google/cloud/bigquery/client.py\", line 797, in _call_api\n",
       "    return call()\n",
       "  File \"/opt/homebrew/Caskroom/miniforge/base/lib/python3.9/site-packages/google/api_core/retry.py\", line 349, in retry_wrapped_func\n",
       "    return retry_target(\n",
       "  File \"/opt/homebrew/Caskroom/miniforge/base/lib/python3.9/site-packages/google/api_core/retry.py\", line 191, in retry_target\n",
       "    return target()\n",
       "  File \"/opt/homebrew/Caskroom/miniforge/base/lib/python3.9/site-packages/google/cloud/_http/__init__.py\", line 494, in api_request\n",
       "    raise exceptions.from_http_response(response)\n",
       "google.api_core.exceptions.BadRequest: 400 POST <span style=\"color: #0000ff; text-decoration-color: #0000ff\">https://bigquery.googleapis.com/bigquery/v2/projects/dtc-de-2023/jobs?prettyPrint=false:</span> Invalid field name \"byArtist_@type\". Fields must contain the allowed characters, and be at most 300 characters long. For allowed characters, please refer to <span style=\"color: #0000ff; text-decoration-color: #0000ff\">https://cloud.google.com/bigquery/docs/schemas#column_names</span>\n",
       "</pre>\n"
      ],
      "text/plain": [
       "12:05:17.201 | \u001b[38;5;160mERROR\u001b[0m   | Flow run\u001b[35m 'aquamarine-echidna'\u001b[0m - Encountered exception during execution:\n",
       "Traceback (most recent call last):\n",
       "  File \"/opt/homebrew/Caskroom/miniforge/base/lib/python3.9/site-packages/prefect/engine.py\", line 665, in orchestrate_flow_run\n",
       "    result = await run_sync(flow_call)\n",
       "  File \"/opt/homebrew/Caskroom/miniforge/base/lib/python3.9/site-packages/prefect/utilities/asyncutils.py\", line 156, in run_sync_in_interruptible_worker_thread\n",
       "    tg.start_soon(\n",
       "  File \"/opt/homebrew/Caskroom/miniforge/base/lib/python3.9/site-packages/anyio/_backends/_asyncio.py\", line 662, in __aexit__\n",
       "    raise exceptions[0]\n",
       "  File \"/opt/homebrew/Caskroom/miniforge/base/lib/python3.9/site-packages/anyio/to_thread.py\", line 31, in run_sync\n",
       "    return await get_asynclib().run_sync_in_worker_thread(\n",
       "  File \"/opt/homebrew/Caskroom/miniforge/base/lib/python3.9/site-packages/anyio/_backends/_asyncio.py\", line 937, in run_sync_in_worker_thread\n",
       "    return await future\n",
       "  File \"/opt/homebrew/Caskroom/miniforge/base/lib/python3.9/site-packages/anyio/_backends/_asyncio.py\", line 867, in run\n",
       "    result = context.run(func, *args)\n",
       "  File \"/opt/homebrew/Caskroom/miniforge/base/lib/python3.9/site-packages/prefect/utilities/asyncutils.py\", line 135, in capture_worker_thread_and_result\n",
       "    result = __fn(*args, **kwargs)\n",
       "  File \"/var/folders/h2/6110hgtx6b7400ybw7yjhn400000gn/T/ipykernel_24489/748791523.py\", line 5, in etl_parent_bq_flow\n",
       "    etl_gcs_to_bq(file_num)\n",
       "  File \"/opt/homebrew/Caskroom/miniforge/base/lib/python3.9/site-packages/prefect/flows.py\", line 468, in __call__\n",
       "    return enter_flow_run_engine_from_flow_call(\n",
       "  File \"/opt/homebrew/Caskroom/miniforge/base/lib/python3.9/site-packages/prefect/engine.py\", line 179, in enter_flow_run_engine_from_flow_call\n",
       "    return run_async_from_worker_thread(begin_run)\n",
       "  File \"/opt/homebrew/Caskroom/miniforge/base/lib/python3.9/site-packages/prefect/utilities/asyncutils.py\", line 177, in run_async_from_worker_thread\n",
       "    return anyio.from_thread.run(call)\n",
       "  File \"/opt/homebrew/Caskroom/miniforge/base/lib/python3.9/site-packages/anyio/from_thread.py\", line 49, in run\n",
       "    return asynclib.run_async_from_thread(func, *args)\n",
       "  File \"/opt/homebrew/Caskroom/miniforge/base/lib/python3.9/site-packages/anyio/_backends/_asyncio.py\", line 970, in run_async_from_thread\n",
       "    return f.result()\n",
       "  File \"/opt/homebrew/Caskroom/miniforge/base/lib/python3.9/concurrent/futures/_base.py\", line 446, in result\n",
       "    return self.__get_result()\n",
       "  File \"/opt/homebrew/Caskroom/miniforge/base/lib/python3.9/concurrent/futures/_base.py\", line 391, in __get_result\n",
       "    raise self._exception\n",
       "  File \"/opt/homebrew/Caskroom/miniforge/base/lib/python3.9/site-packages/prefect/client/utilities.py\", line 47, in with_injected_client\n",
       "    return await fn(*args, **kwargs)\n",
       "  File \"/opt/homebrew/Caskroom/miniforge/base/lib/python3.9/site-packages/prefect/engine.py\", line 568, in create_and_begin_subflow_run\n",
       "    return await terminal_state.result(fetch=True)\n",
       "  File \"/opt/homebrew/Caskroom/miniforge/base/lib/python3.9/site-packages/prefect/states.py\", line 91, in _get_state_result\n",
       "    raise await get_state_exception(state)\n",
       "  File \"/opt/homebrew/Caskroom/miniforge/base/lib/python3.9/site-packages/prefect/engine.py\", line 665, in orchestrate_flow_run\n",
       "    result = await run_sync(flow_call)\n",
       "  File \"/opt/homebrew/Caskroom/miniforge/base/lib/python3.9/site-packages/prefect/utilities/asyncutils.py\", line 156, in run_sync_in_interruptible_worker_thread\n",
       "    tg.start_soon(\n",
       "  File \"/opt/homebrew/Caskroom/miniforge/base/lib/python3.9/site-packages/anyio/_backends/_asyncio.py\", line 662, in __aexit__\n",
       "    raise exceptions[0]\n",
       "  File \"/opt/homebrew/Caskroom/miniforge/base/lib/python3.9/site-packages/anyio/to_thread.py\", line 31, in run_sync\n",
       "    return await get_asynclib().run_sync_in_worker_thread(\n",
       "  File \"/opt/homebrew/Caskroom/miniforge/base/lib/python3.9/site-packages/anyio/_backends/_asyncio.py\", line 937, in run_sync_in_worker_thread\n",
       "    return await future\n",
       "  File \"/opt/homebrew/Caskroom/miniforge/base/lib/python3.9/site-packages/anyio/_backends/_asyncio.py\", line 867, in run\n",
       "    result = context.run(func, *args)\n",
       "  File \"/opt/homebrew/Caskroom/miniforge/base/lib/python3.9/site-packages/prefect/utilities/asyncutils.py\", line 135, in capture_worker_thread_and_result\n",
       "    result = __fn(*args, **kwargs)\n",
       "  File \"/var/folders/h2/6110hgtx6b7400ybw7yjhn400000gn/T/ipykernel_24489/693090197.py\", line 53, in etl_gcs_to_bq\n",
       "    load_job = client.load_table_from_uri(\n",
       "  File \"/opt/homebrew/Caskroom/miniforge/base/lib/python3.9/site-packages/google/cloud/bigquery/client.py\", line 2363, in load_table_from_uri\n",
       "    load_job._begin(retry=retry, timeout=timeout)\n",
       "  File \"/opt/homebrew/Caskroom/miniforge/base/lib/python3.9/site-packages/google/cloud/bigquery/job/base.py\", line 510, in _begin\n",
       "    api_response = client._call_api(\n",
       "  File \"/opt/homebrew/Caskroom/miniforge/base/lib/python3.9/site-packages/google/cloud/bigquery/client.py\", line 797, in _call_api\n",
       "    return call()\n",
       "  File \"/opt/homebrew/Caskroom/miniforge/base/lib/python3.9/site-packages/google/api_core/retry.py\", line 349, in retry_wrapped_func\n",
       "    return retry_target(\n",
       "  File \"/opt/homebrew/Caskroom/miniforge/base/lib/python3.9/site-packages/google/api_core/retry.py\", line 191, in retry_target\n",
       "    return target()\n",
       "  File \"/opt/homebrew/Caskroom/miniforge/base/lib/python3.9/site-packages/google/cloud/_http/__init__.py\", line 494, in api_request\n",
       "    raise exceptions.from_http_response(response)\n",
       "google.api_core.exceptions.BadRequest: 400 POST \u001b[94mhttps://bigquery.googleapis.com/bigquery/v2/projects/dtc-de-2023/jobs?prettyPrint=false:\u001b[0m Invalid field name \"byArtist_@type\". Fields must contain the allowed characters, and be at most 300 characters long. For allowed characters, please refer to \u001b[94mhttps://cloud.google.com/bigquery/docs/schemas#column_names\u001b[0m\n"
      ]
     },
     "metadata": {},
     "output_type": "display_data"
    },
    {
     "data": {
      "text/html": [
       "<pre style=\"white-space:pre;overflow-x:auto;line-height:normal;font-family:Menlo,'DejaVu Sans Mono',consolas,'Courier New',monospace\">12:05:17.583 | <span style=\"color: #d70000; text-decoration-color: #d70000\">ERROR</span>   | Flow run<span style=\"color: #800080; text-decoration-color: #800080\"> 'aquamarine-echidna'</span> - Finished in state <span style=\"color: #d70000; text-decoration-color: #d70000\">Failed</span>('Flow run encountered an exception. google.api_core.exceptions.BadRequest: 400 POST <span style=\"color: #0000ff; text-decoration-color: #0000ff\">https://bigquery.googleapis.com/bigquery/v2/projects/dtc-de-2023/jobs?prettyPrint=false:</span> Invalid field name \"byArtist_@type\". Fields must contain the allowed characters, and be at most 300 characters long. For allowed characters, please refer to <span style=\"color: #0000ff; text-decoration-color: #0000ff\">https://cloud.google.com/bigquery/docs/schemas#column_names</span>\\n')\n",
       "</pre>\n"
      ],
      "text/plain": [
       "12:05:17.583 | \u001b[38;5;160mERROR\u001b[0m   | Flow run\u001b[35m 'aquamarine-echidna'\u001b[0m - Finished in state \u001b[38;5;160mFailed\u001b[0m('Flow run encountered an exception. google.api_core.exceptions.BadRequest: 400 POST \u001b[94mhttps://bigquery.googleapis.com/bigquery/v2/projects/dtc-de-2023/jobs?prettyPrint=false:\u001b[0m Invalid field name \"byArtist_@type\". Fields must contain the allowed characters, and be at most 300 characters long. For allowed characters, please refer to \u001b[94mhttps://cloud.google.com/bigquery/docs/schemas#column_names\u001b[0m\\n')\n"
      ]
     },
     "metadata": {},
     "output_type": "display_data"
    },
    {
     "ename": "BadRequest",
     "evalue": "400 POST https://bigquery.googleapis.com/bigquery/v2/projects/dtc-de-2023/jobs?prettyPrint=false: Invalid field name \"byArtist_@type\". Fields must contain the allowed characters, and be at most 300 characters long. For allowed characters, please refer to https://cloud.google.com/bigquery/docs/schemas#column_names",
     "output_type": "error",
     "traceback": [
      "\u001b[0;31m---------------------------------------------------------------------------\u001b[0m",
      "\u001b[0;31mBadRequest\u001b[0m                                Traceback (most recent call last)",
      "Cell \u001b[0;32mIn[42], line 5\u001b[0m\n\u001b[1;32m      2\u001b[0m \u001b[39mif\u001b[39;00m \u001b[39m__name__\u001b[39m \u001b[39m==\u001b[39m \u001b[39m\"\u001b[39m\u001b[39m__main__\u001b[39m\u001b[39m\"\u001b[39m:\n\u001b[1;32m      3\u001b[0m     file_num_list \u001b[39m=\u001b[39m [\u001b[39m10\u001b[39m,\u001b[39m11\u001b[39m]\n\u001b[0;32m----> 5\u001b[0m     etl_parent_bq_flow(file_num_list)\n",
      "File \u001b[0;32m/opt/homebrew/Caskroom/miniforge/base/lib/python3.9/site-packages/prefect/flows.py:468\u001b[0m, in \u001b[0;36mFlow.__call__\u001b[0;34m(self, return_state, wait_for, *args, **kwargs)\u001b[0m\n\u001b[1;32m    464\u001b[0m parameters \u001b[39m=\u001b[39m get_call_parameters(\u001b[39mself\u001b[39m\u001b[39m.\u001b[39mfn, args, kwargs)\n\u001b[1;32m    466\u001b[0m return_type \u001b[39m=\u001b[39m \u001b[39m\"\u001b[39m\u001b[39mstate\u001b[39m\u001b[39m\"\u001b[39m \u001b[39mif\u001b[39;00m return_state \u001b[39melse\u001b[39;00m \u001b[39m\"\u001b[39m\u001b[39mresult\u001b[39m\u001b[39m\"\u001b[39m\n\u001b[0;32m--> 468\u001b[0m \u001b[39mreturn\u001b[39;00m enter_flow_run_engine_from_flow_call(\n\u001b[1;32m    469\u001b[0m     \u001b[39mself\u001b[39;49m,\n\u001b[1;32m    470\u001b[0m     parameters,\n\u001b[1;32m    471\u001b[0m     wait_for\u001b[39m=\u001b[39;49mwait_for,\n\u001b[1;32m    472\u001b[0m     return_type\u001b[39m=\u001b[39;49mreturn_type,\n\u001b[1;32m    473\u001b[0m )\n",
      "File \u001b[0;32m/opt/homebrew/Caskroom/miniforge/base/lib/python3.9/site-packages/prefect/engine.py:172\u001b[0m, in \u001b[0;36menter_flow_run_engine_from_flow_call\u001b[0;34m(flow, parameters, wait_for, return_type)\u001b[0m\n\u001b[1;32m    168\u001b[0m \u001b[39melif\u001b[39;00m in_async_main_thread():\n\u001b[1;32m    169\u001b[0m     \u001b[39m# An event loop is already running and we must create a blocking portal to\u001b[39;00m\n\u001b[1;32m    170\u001b[0m     \u001b[39m# run async code from this synchronous context\u001b[39;00m\n\u001b[1;32m    171\u001b[0m     \u001b[39mwith\u001b[39;00m start_blocking_portal() \u001b[39mas\u001b[39;00m portal:\n\u001b[0;32m--> 172\u001b[0m         \u001b[39mreturn\u001b[39;00m portal\u001b[39m.\u001b[39;49mcall(begin_run)\n\u001b[1;32m    173\u001b[0m \u001b[39melse\u001b[39;00m:\n\u001b[1;32m    174\u001b[0m     \u001b[39m# An event loop is not running so we will create one\u001b[39;00m\n\u001b[1;32m    175\u001b[0m     \u001b[39mreturn\u001b[39;00m anyio\u001b[39m.\u001b[39mrun(begin_run)\n",
      "File \u001b[0;32m/opt/homebrew/Caskroom/miniforge/base/lib/python3.9/site-packages/anyio/from_thread.py:283\u001b[0m, in \u001b[0;36mBlockingPortal.call\u001b[0;34m(self, func, *args)\u001b[0m\n\u001b[1;32m    268\u001b[0m \u001b[39mdef\u001b[39;00m \u001b[39mcall\u001b[39m(\n\u001b[1;32m    269\u001b[0m     \u001b[39mself\u001b[39m,\n\u001b[1;32m    270\u001b[0m     func: Callable[\u001b[39m.\u001b[39m\u001b[39m.\u001b[39m\u001b[39m.\u001b[39m, Union[Coroutine[Any, Any, T_Retval], T_Retval]],\n\u001b[1;32m    271\u001b[0m     \u001b[39m*\u001b[39margs: \u001b[39mobject\u001b[39m\n\u001b[1;32m    272\u001b[0m ) \u001b[39m-\u001b[39m\u001b[39m>\u001b[39m T_Retval:\n\u001b[1;32m    273\u001b[0m \u001b[39m    \u001b[39m\u001b[39m\"\"\"\u001b[39;00m\n\u001b[1;32m    274\u001b[0m \u001b[39m    Call the given function in the event loop thread.\u001b[39;00m\n\u001b[1;32m    275\u001b[0m \n\u001b[0;32m   (...)\u001b[0m\n\u001b[1;32m    281\u001b[0m \n\u001b[1;32m    282\u001b[0m \u001b[39m    \"\"\"\u001b[39;00m\n\u001b[0;32m--> 283\u001b[0m     \u001b[39mreturn\u001b[39;00m cast(T_Retval, \u001b[39mself\u001b[39;49m\u001b[39m.\u001b[39;49mstart_task_soon(func, \u001b[39m*\u001b[39;49margs)\u001b[39m.\u001b[39;49mresult())\n",
      "File \u001b[0;32m/opt/homebrew/Caskroom/miniforge/base/lib/python3.9/concurrent/futures/_base.py:446\u001b[0m, in \u001b[0;36mFuture.result\u001b[0;34m(self, timeout)\u001b[0m\n\u001b[1;32m    444\u001b[0m     \u001b[39mraise\u001b[39;00m CancelledError()\n\u001b[1;32m    445\u001b[0m \u001b[39melif\u001b[39;00m \u001b[39mself\u001b[39m\u001b[39m.\u001b[39m_state \u001b[39m==\u001b[39m FINISHED:\n\u001b[0;32m--> 446\u001b[0m     \u001b[39mreturn\u001b[39;00m \u001b[39mself\u001b[39;49m\u001b[39m.\u001b[39;49m__get_result()\n\u001b[1;32m    447\u001b[0m \u001b[39melse\u001b[39;00m:\n\u001b[1;32m    448\u001b[0m     \u001b[39mraise\u001b[39;00m \u001b[39mTimeoutError\u001b[39;00m()\n",
      "File \u001b[0;32m/opt/homebrew/Caskroom/miniforge/base/lib/python3.9/concurrent/futures/_base.py:391\u001b[0m, in \u001b[0;36mFuture.__get_result\u001b[0;34m(self)\u001b[0m\n\u001b[1;32m    389\u001b[0m \u001b[39mif\u001b[39;00m \u001b[39mself\u001b[39m\u001b[39m.\u001b[39m_exception:\n\u001b[1;32m    390\u001b[0m     \u001b[39mtry\u001b[39;00m:\n\u001b[0;32m--> 391\u001b[0m         \u001b[39mraise\u001b[39;00m \u001b[39mself\u001b[39m\u001b[39m.\u001b[39m_exception\n\u001b[1;32m    392\u001b[0m     \u001b[39mfinally\u001b[39;00m:\n\u001b[1;32m    393\u001b[0m         \u001b[39m# Break a reference cycle with the exception in self._exception\u001b[39;00m\n\u001b[1;32m    394\u001b[0m         \u001b[39mself\u001b[39m \u001b[39m=\u001b[39m \u001b[39mNone\u001b[39;00m\n",
      "File \u001b[0;32m/opt/homebrew/Caskroom/miniforge/base/lib/python3.9/site-packages/anyio/from_thread.py:219\u001b[0m, in \u001b[0;36mBlockingPortal._call_func\u001b[0;34m(self, func, args, kwargs, future)\u001b[0m\n\u001b[1;32m    216\u001b[0m             \u001b[39melse\u001b[39;00m:\n\u001b[1;32m    217\u001b[0m                 future\u001b[39m.\u001b[39madd_done_callback(callback)\n\u001b[0;32m--> 219\u001b[0m             retval \u001b[39m=\u001b[39m \u001b[39mawait\u001b[39;00m retval\n\u001b[1;32m    220\u001b[0m \u001b[39mexcept\u001b[39;00m \u001b[39mself\u001b[39m\u001b[39m.\u001b[39m_cancelled_exc_class:\n\u001b[1;32m    221\u001b[0m     future\u001b[39m.\u001b[39mcancel()\n",
      "File \u001b[0;32m/opt/homebrew/Caskroom/miniforge/base/lib/python3.9/site-packages/prefect/client/utilities.py:47\u001b[0m, in \u001b[0;36minject_client.<locals>.with_injected_client\u001b[0;34m(*args, **kwargs)\u001b[0m\n\u001b[1;32m     45\u001b[0m \u001b[39masync\u001b[39;00m \u001b[39mwith\u001b[39;00m client_context \u001b[39mas\u001b[39;00m new_client:\n\u001b[1;32m     46\u001b[0m     kwargs\u001b[39m.\u001b[39msetdefault(\u001b[39m\"\u001b[39m\u001b[39mclient\u001b[39m\u001b[39m\"\u001b[39m, new_client \u001b[39mor\u001b[39;00m client)\n\u001b[0;32m---> 47\u001b[0m     \u001b[39mreturn\u001b[39;00m \u001b[39mawait\u001b[39;00m fn(\u001b[39m*\u001b[39margs, \u001b[39m*\u001b[39m\u001b[39m*\u001b[39mkwargs)\n",
      "File \u001b[0;32m/opt/homebrew/Caskroom/miniforge/base/lib/python3.9/site-packages/prefect/engine.py:256\u001b[0m, in \u001b[0;36mcreate_then_begin_flow_run\u001b[0;34m(flow, parameters, wait_for, return_type, client)\u001b[0m\n\u001b[1;32m    254\u001b[0m     \u001b[39mreturn\u001b[39;00m state\n\u001b[1;32m    255\u001b[0m \u001b[39melif\u001b[39;00m return_type \u001b[39m==\u001b[39m \u001b[39m\"\u001b[39m\u001b[39mresult\u001b[39m\u001b[39m\"\u001b[39m:\n\u001b[0;32m--> 256\u001b[0m     \u001b[39mreturn\u001b[39;00m \u001b[39mawait\u001b[39;00m state\u001b[39m.\u001b[39mresult(fetch\u001b[39m=\u001b[39m\u001b[39mTrue\u001b[39;00m)\n\u001b[1;32m    257\u001b[0m \u001b[39melse\u001b[39;00m:\n\u001b[1;32m    258\u001b[0m     \u001b[39mraise\u001b[39;00m \u001b[39mValueError\u001b[39;00m(\u001b[39mf\u001b[39m\u001b[39m\"\u001b[39m\u001b[39mInvalid return type for flow engine \u001b[39m\u001b[39m{\u001b[39;00mreturn_type\u001b[39m!r}\u001b[39;00m\u001b[39m.\u001b[39m\u001b[39m\"\u001b[39m)\n",
      "File \u001b[0;32m/opt/homebrew/Caskroom/miniforge/base/lib/python3.9/site-packages/prefect/states.py:91\u001b[0m, in \u001b[0;36m_get_state_result\u001b[0;34m(state, raise_on_failure)\u001b[0m\n\u001b[1;32m     86\u001b[0m     \u001b[39mraise\u001b[39;00m PausedRun(\u001b[39m\"\u001b[39m\u001b[39mRun paused.\u001b[39m\u001b[39m\"\u001b[39m)\n\u001b[1;32m     88\u001b[0m \u001b[39mif\u001b[39;00m raise_on_failure \u001b[39mand\u001b[39;00m (\n\u001b[1;32m     89\u001b[0m     state\u001b[39m.\u001b[39mis_crashed() \u001b[39mor\u001b[39;00m state\u001b[39m.\u001b[39mis_failed() \u001b[39mor\u001b[39;00m state\u001b[39m.\u001b[39mis_cancelled()\n\u001b[1;32m     90\u001b[0m ):\n\u001b[0;32m---> 91\u001b[0m     \u001b[39mraise\u001b[39;00m \u001b[39mawait\u001b[39;00m get_state_exception(state)\n\u001b[1;32m     93\u001b[0m \u001b[39mif\u001b[39;00m \u001b[39misinstance\u001b[39m(state\u001b[39m.\u001b[39mdata, DataDocument):\n\u001b[1;32m     94\u001b[0m     result \u001b[39m=\u001b[39m result_from_state_with_data_document(\n\u001b[1;32m     95\u001b[0m         state, raise_on_failure\u001b[39m=\u001b[39mraise_on_failure\n\u001b[1;32m     96\u001b[0m     )\n",
      "File \u001b[0;32m/opt/homebrew/Caskroom/miniforge/base/lib/python3.9/site-packages/prefect/engine.py:665\u001b[0m, in \u001b[0;36morchestrate_flow_run\u001b[0;34m(flow, flow_run, parameters, wait_for, interruptible, client, partial_flow_run_context)\u001b[0m\n\u001b[1;32m    659\u001b[0m             \u001b[39melse\u001b[39;00m:\n\u001b[1;32m    660\u001b[0m                 run_sync \u001b[39m=\u001b[39m (\n\u001b[1;32m    661\u001b[0m                     run_sync_in_interruptible_worker_thread\n\u001b[1;32m    662\u001b[0m                     \u001b[39mif\u001b[39;00m interruptible \u001b[39mor\u001b[39;00m timeout_scope\n\u001b[1;32m    663\u001b[0m                     \u001b[39melse\u001b[39;00m run_sync_in_worker_thread\n\u001b[1;32m    664\u001b[0m                 )\n\u001b[0;32m--> 665\u001b[0m                 result \u001b[39m=\u001b[39m \u001b[39mawait\u001b[39;00m run_sync(flow_call)\n\u001b[1;32m    667\u001b[0m         waited_for_task_runs \u001b[39m=\u001b[39m \u001b[39mawait\u001b[39;00m wait_for_task_runs_and_report_crashes(\n\u001b[1;32m    668\u001b[0m             flow_run_context\u001b[39m.\u001b[39mtask_run_futures, client\u001b[39m=\u001b[39mclient\n\u001b[1;32m    669\u001b[0m         )\n\u001b[1;32m    670\u001b[0m \u001b[39mexcept\u001b[39;00m PausedRun:\n",
      "File \u001b[0;32m/opt/homebrew/Caskroom/miniforge/base/lib/python3.9/site-packages/prefect/utilities/asyncutils.py:156\u001b[0m, in \u001b[0;36mrun_sync_in_interruptible_worker_thread\u001b[0;34m(__fn, *args, **kwargs)\u001b[0m\n\u001b[1;32m    154\u001b[0m \u001b[39masync\u001b[39;00m \u001b[39mwith\u001b[39;00m anyio\u001b[39m.\u001b[39mcreate_task_group() \u001b[39mas\u001b[39;00m tg:\n\u001b[1;32m    155\u001b[0m     tg\u001b[39m.\u001b[39mstart_soon(send_interrupt_to_thread)\n\u001b[0;32m--> 156\u001b[0m     tg\u001b[39m.\u001b[39mstart_soon(\n\u001b[1;32m    157\u001b[0m         partial(\n\u001b[1;32m    158\u001b[0m             anyio\u001b[39m.\u001b[39mto_thread\u001b[39m.\u001b[39mrun_sync,\n\u001b[1;32m    159\u001b[0m             capture_worker_thread_and_result,\n\u001b[1;32m    160\u001b[0m             cancellable\u001b[39m=\u001b[39m\u001b[39mTrue\u001b[39;00m,\n\u001b[1;32m    161\u001b[0m             limiter\u001b[39m=\u001b[39mget_thread_limiter(),\n\u001b[1;32m    162\u001b[0m         )\n\u001b[1;32m    163\u001b[0m     )\n\u001b[1;32m    165\u001b[0m \u001b[39massert\u001b[39;00m result \u001b[39mis\u001b[39;00m \u001b[39mnot\u001b[39;00m NotSet\n\u001b[1;32m    166\u001b[0m \u001b[39mreturn\u001b[39;00m result\n",
      "File \u001b[0;32m/opt/homebrew/Caskroom/miniforge/base/lib/python3.9/site-packages/anyio/_backends/_asyncio.py:662\u001b[0m, in \u001b[0;36mTaskGroup.__aexit__\u001b[0;34m(self, exc_type, exc_val, exc_tb)\u001b[0m\n\u001b[1;32m    660\u001b[0m             \u001b[39mraise\u001b[39;00m ExceptionGroup(exceptions)\n\u001b[1;32m    661\u001b[0m     \u001b[39melif\u001b[39;00m exceptions \u001b[39mand\u001b[39;00m exceptions[\u001b[39m0\u001b[39m] \u001b[39mis\u001b[39;00m \u001b[39mnot\u001b[39;00m exc_val:\n\u001b[0;32m--> 662\u001b[0m         \u001b[39mraise\u001b[39;00m exceptions[\u001b[39m0\u001b[39m]\n\u001b[1;32m    663\u001b[0m \u001b[39mexcept\u001b[39;00m \u001b[39mBaseException\u001b[39;00m \u001b[39mas\u001b[39;00m exc:\n\u001b[1;32m    664\u001b[0m     \u001b[39m# Clear the context here, as it can only be done in-flight.\u001b[39;00m\n\u001b[1;32m    665\u001b[0m     \u001b[39m# If the context is not cleared, it can result in recursive tracebacks (see #145).\u001b[39;00m\n\u001b[1;32m    666\u001b[0m     exc\u001b[39m.\u001b[39m__context__ \u001b[39m=\u001b[39m \u001b[39mNone\u001b[39;00m\n",
      "File \u001b[0;32m/opt/homebrew/Caskroom/miniforge/base/lib/python3.9/site-packages/anyio/to_thread.py:31\u001b[0m, in \u001b[0;36mrun_sync\u001b[0;34m(func, cancellable, limiter, *args)\u001b[0m\n\u001b[1;32m     10\u001b[0m \u001b[39masync\u001b[39;00m \u001b[39mdef\u001b[39;00m \u001b[39mrun_sync\u001b[39m(\n\u001b[1;32m     11\u001b[0m     func: Callable[\u001b[39m.\u001b[39m\u001b[39m.\u001b[39m\u001b[39m.\u001b[39m, T_Retval],\n\u001b[1;32m     12\u001b[0m     \u001b[39m*\u001b[39margs: \u001b[39mobject\u001b[39m,\n\u001b[1;32m     13\u001b[0m     cancellable: \u001b[39mbool\u001b[39m \u001b[39m=\u001b[39m \u001b[39mFalse\u001b[39;00m,\n\u001b[1;32m     14\u001b[0m     limiter: Optional[CapacityLimiter] \u001b[39m=\u001b[39m \u001b[39mNone\u001b[39;00m\n\u001b[1;32m     15\u001b[0m ) \u001b[39m-\u001b[39m\u001b[39m>\u001b[39m T_Retval:\n\u001b[1;32m     16\u001b[0m \u001b[39m    \u001b[39m\u001b[39m\"\"\"\u001b[39;00m\n\u001b[1;32m     17\u001b[0m \u001b[39m    Call the given function with the given arguments in a worker thread.\u001b[39;00m\n\u001b[1;32m     18\u001b[0m \n\u001b[0;32m   (...)\u001b[0m\n\u001b[1;32m     29\u001b[0m \n\u001b[1;32m     30\u001b[0m \u001b[39m    \"\"\"\u001b[39;00m\n\u001b[0;32m---> 31\u001b[0m     \u001b[39mreturn\u001b[39;00m \u001b[39mawait\u001b[39;00m get_asynclib()\u001b[39m.\u001b[39mrun_sync_in_worker_thread(\n\u001b[1;32m     32\u001b[0m         func, \u001b[39m*\u001b[39margs, cancellable\u001b[39m=\u001b[39mcancellable, limiter\u001b[39m=\u001b[39mlimiter\n\u001b[1;32m     33\u001b[0m     )\n",
      "File \u001b[0;32m/opt/homebrew/Caskroom/miniforge/base/lib/python3.9/site-packages/anyio/_backends/_asyncio.py:937\u001b[0m, in \u001b[0;36mrun_sync_in_worker_thread\u001b[0;34m(func, cancellable, limiter, *args)\u001b[0m\n\u001b[1;32m    935\u001b[0m context\u001b[39m.\u001b[39mrun(sniffio\u001b[39m.\u001b[39mcurrent_async_library_cvar\u001b[39m.\u001b[39mset, \u001b[39mNone\u001b[39;00m)\n\u001b[1;32m    936\u001b[0m worker\u001b[39m.\u001b[39mqueue\u001b[39m.\u001b[39mput_nowait((context, func, args, future))\n\u001b[0;32m--> 937\u001b[0m \u001b[39mreturn\u001b[39;00m \u001b[39mawait\u001b[39;00m future\n",
      "File \u001b[0;32m/opt/homebrew/Caskroom/miniforge/base/lib/python3.9/site-packages/anyio/_backends/_asyncio.py:867\u001b[0m, in \u001b[0;36mWorkerThread.run\u001b[0;34m(self)\u001b[0m\n\u001b[1;32m    865\u001b[0m exception: Optional[\u001b[39mBaseException\u001b[39;00m] \u001b[39m=\u001b[39m \u001b[39mNone\u001b[39;00m\n\u001b[1;32m    866\u001b[0m \u001b[39mtry\u001b[39;00m:\n\u001b[0;32m--> 867\u001b[0m     result \u001b[39m=\u001b[39m context\u001b[39m.\u001b[39;49mrun(func, \u001b[39m*\u001b[39;49margs)\n\u001b[1;32m    868\u001b[0m \u001b[39mexcept\u001b[39;00m \u001b[39mBaseException\u001b[39;00m \u001b[39mas\u001b[39;00m exc:\n\u001b[1;32m    869\u001b[0m     exception \u001b[39m=\u001b[39m exc\n",
      "File \u001b[0;32m/opt/homebrew/Caskroom/miniforge/base/lib/python3.9/site-packages/prefect/utilities/asyncutils.py:135\u001b[0m, in \u001b[0;36mrun_sync_in_interruptible_worker_thread.<locals>.capture_worker_thread_and_result\u001b[0;34m()\u001b[0m\n\u001b[1;32m    133\u001b[0m \u001b[39mtry\u001b[39;00m:\n\u001b[1;32m    134\u001b[0m     thread \u001b[39m=\u001b[39m threading\u001b[39m.\u001b[39mcurrent_thread()\n\u001b[0;32m--> 135\u001b[0m     result \u001b[39m=\u001b[39m __fn(\u001b[39m*\u001b[39;49margs, \u001b[39m*\u001b[39;49m\u001b[39m*\u001b[39;49mkwargs)\n\u001b[1;32m    136\u001b[0m \u001b[39mexcept\u001b[39;00m \u001b[39mBaseException\u001b[39;00m \u001b[39mas\u001b[39;00m exc:\n\u001b[1;32m    137\u001b[0m     result \u001b[39m=\u001b[39m exc\n",
      "Cell \u001b[0;32mIn[41], line 5\u001b[0m, in \u001b[0;36metl_parent_bq_flow\u001b[0;34m(file_num_list)\u001b[0m\n\u001b[1;32m      2\u001b[0m \u001b[39m@flow\u001b[39m(log_prints\u001b[39m=\u001b[39m\u001b[39mTrue\u001b[39;00m, name\u001b[39m=\u001b[39m\u001b[39m\"\u001b[39m\u001b[39metl-parent-to-bq\u001b[39m\u001b[39m\"\u001b[39m)\n\u001b[1;32m      3\u001b[0m \u001b[39mdef\u001b[39;00m \u001b[39metl_parent_bq_flow\u001b[39m(file_num_list: \u001b[39mlist\u001b[39m[\u001b[39mint\u001b[39m] \u001b[39m=\u001b[39m [\u001b[39m1\u001b[39m, \u001b[39m2\u001b[39m, \u001b[39m3\u001b[39m, \u001b[39m4\u001b[39m, \u001b[39m5\u001b[39m, \u001b[39m6\u001b[39m, \u001b[39m7\u001b[39m, \u001b[39m8\u001b[39m, \u001b[39m9\u001b[39m, \u001b[39m10\u001b[39m, \u001b[39m11\u001b[39m]):\n\u001b[1;32m      4\u001b[0m     \u001b[39mfor\u001b[39;00m file_num \u001b[39min\u001b[39;00m file_num_list:\n\u001b[0;32m----> 5\u001b[0m         etl_gcs_to_bq(file_num)\n\u001b[1;32m      6\u001b[0m     \u001b[39m# Union all tables\u001b[39;00m\n\u001b[1;32m      7\u001b[0m     union_all()\n",
      "File \u001b[0;32m/opt/homebrew/Caskroom/miniforge/base/lib/python3.9/site-packages/prefect/flows.py:468\u001b[0m, in \u001b[0;36mFlow.__call__\u001b[0;34m(self, return_state, wait_for, *args, **kwargs)\u001b[0m\n\u001b[1;32m    464\u001b[0m parameters \u001b[39m=\u001b[39m get_call_parameters(\u001b[39mself\u001b[39m\u001b[39m.\u001b[39mfn, args, kwargs)\n\u001b[1;32m    466\u001b[0m return_type \u001b[39m=\u001b[39m \u001b[39m\"\u001b[39m\u001b[39mstate\u001b[39m\u001b[39m\"\u001b[39m \u001b[39mif\u001b[39;00m return_state \u001b[39melse\u001b[39;00m \u001b[39m\"\u001b[39m\u001b[39mresult\u001b[39m\u001b[39m\"\u001b[39m\n\u001b[0;32m--> 468\u001b[0m \u001b[39mreturn\u001b[39;00m enter_flow_run_engine_from_flow_call(\n\u001b[1;32m    469\u001b[0m     \u001b[39mself\u001b[39;49m,\n\u001b[1;32m    470\u001b[0m     parameters,\n\u001b[1;32m    471\u001b[0m     wait_for\u001b[39m=\u001b[39;49mwait_for,\n\u001b[1;32m    472\u001b[0m     return_type\u001b[39m=\u001b[39;49mreturn_type,\n\u001b[1;32m    473\u001b[0m )\n",
      "File \u001b[0;32m/opt/homebrew/Caskroom/miniforge/base/lib/python3.9/site-packages/prefect/engine.py:179\u001b[0m, in \u001b[0;36menter_flow_run_engine_from_flow_call\u001b[0;34m(flow, parameters, wait_for, return_type)\u001b[0m\n\u001b[1;32m    175\u001b[0m         \u001b[39mreturn\u001b[39;00m anyio\u001b[39m.\u001b[39mrun(begin_run)\n\u001b[1;32m    177\u001b[0m \u001b[39mif\u001b[39;00m \u001b[39mnot\u001b[39;00m parent_flow_run_context\u001b[39m.\u001b[39mflow\u001b[39m.\u001b[39misasync:\n\u001b[1;32m    178\u001b[0m     \u001b[39m# Async subflow run in sync flow run\u001b[39;00m\n\u001b[0;32m--> 179\u001b[0m     \u001b[39mreturn\u001b[39;00m run_async_from_worker_thread(begin_run)\n\u001b[1;32m    180\u001b[0m \u001b[39melif\u001b[39;00m parent_flow_run_context\u001b[39m.\u001b[39mflow\u001b[39m.\u001b[39misasync \u001b[39mand\u001b[39;00m flow\u001b[39m.\u001b[39misasync:\n\u001b[1;32m    181\u001b[0m     \u001b[39m# Async subflow run in async flow run\u001b[39;00m\n\u001b[1;32m    182\u001b[0m     \u001b[39mreturn\u001b[39;00m begin_run()\n",
      "File \u001b[0;32m/opt/homebrew/Caskroom/miniforge/base/lib/python3.9/site-packages/prefect/utilities/asyncutils.py:177\u001b[0m, in \u001b[0;36mrun_async_from_worker_thread\u001b[0;34m(__fn, *args, **kwargs)\u001b[0m\n\u001b[1;32m    172\u001b[0m \u001b[39m\u001b[39m\u001b[39m\"\"\"\u001b[39;00m\n\u001b[1;32m    173\u001b[0m \u001b[39mRuns an async function in the main thread's event loop, blocking the worker\u001b[39;00m\n\u001b[1;32m    174\u001b[0m \u001b[39mthread until completion\u001b[39;00m\n\u001b[1;32m    175\u001b[0m \u001b[39m\"\"\"\u001b[39;00m\n\u001b[1;32m    176\u001b[0m call \u001b[39m=\u001b[39m partial(__fn, \u001b[39m*\u001b[39margs, \u001b[39m*\u001b[39m\u001b[39m*\u001b[39mkwargs)\n\u001b[0;32m--> 177\u001b[0m \u001b[39mreturn\u001b[39;00m anyio\u001b[39m.\u001b[39;49mfrom_thread\u001b[39m.\u001b[39;49mrun(call)\n",
      "File \u001b[0;32m/opt/homebrew/Caskroom/miniforge/base/lib/python3.9/site-packages/anyio/from_thread.py:49\u001b[0m, in \u001b[0;36mrun\u001b[0;34m(func, *args)\u001b[0m\n\u001b[1;32m     46\u001b[0m \u001b[39mexcept\u001b[39;00m \u001b[39mAttributeError\u001b[39;00m:\n\u001b[1;32m     47\u001b[0m     \u001b[39mraise\u001b[39;00m \u001b[39mRuntimeError\u001b[39;00m(\u001b[39m\"\u001b[39m\u001b[39mThis function can only be run from an AnyIO worker thread\u001b[39m\u001b[39m\"\u001b[39m)\n\u001b[0;32m---> 49\u001b[0m \u001b[39mreturn\u001b[39;00m asynclib\u001b[39m.\u001b[39;49mrun_async_from_thread(func, \u001b[39m*\u001b[39;49margs)\n",
      "File \u001b[0;32m/opt/homebrew/Caskroom/miniforge/base/lib/python3.9/site-packages/anyio/_backends/_asyncio.py:970\u001b[0m, in \u001b[0;36mrun_async_from_thread\u001b[0;34m(func, *args)\u001b[0m\n\u001b[1;32m    964\u001b[0m \u001b[39mdef\u001b[39;00m \u001b[39mrun_async_from_thread\u001b[39m(\n\u001b[1;32m    965\u001b[0m     func: Callable[\u001b[39m.\u001b[39m\u001b[39m.\u001b[39m\u001b[39m.\u001b[39m, Coroutine[Any, Any, T_Retval]], \u001b[39m*\u001b[39margs: \u001b[39mobject\u001b[39m\n\u001b[1;32m    966\u001b[0m ) \u001b[39m-\u001b[39m\u001b[39m>\u001b[39m T_Retval:\n\u001b[1;32m    967\u001b[0m     f: concurrent\u001b[39m.\u001b[39mfutures\u001b[39m.\u001b[39mFuture[T_Retval] \u001b[39m=\u001b[39m asyncio\u001b[39m.\u001b[39mrun_coroutine_threadsafe(\n\u001b[1;32m    968\u001b[0m         func(\u001b[39m*\u001b[39margs), threadlocals\u001b[39m.\u001b[39mloop\n\u001b[1;32m    969\u001b[0m     )\n\u001b[0;32m--> 970\u001b[0m     \u001b[39mreturn\u001b[39;00m f\u001b[39m.\u001b[39;49mresult()\n",
      "File \u001b[0;32m/opt/homebrew/Caskroom/miniforge/base/lib/python3.9/concurrent/futures/_base.py:446\u001b[0m, in \u001b[0;36mFuture.result\u001b[0;34m(self, timeout)\u001b[0m\n\u001b[1;32m    444\u001b[0m     \u001b[39mraise\u001b[39;00m CancelledError()\n\u001b[1;32m    445\u001b[0m \u001b[39melif\u001b[39;00m \u001b[39mself\u001b[39m\u001b[39m.\u001b[39m_state \u001b[39m==\u001b[39m FINISHED:\n\u001b[0;32m--> 446\u001b[0m     \u001b[39mreturn\u001b[39;00m \u001b[39mself\u001b[39;49m\u001b[39m.\u001b[39;49m__get_result()\n\u001b[1;32m    447\u001b[0m \u001b[39melse\u001b[39;00m:\n\u001b[1;32m    448\u001b[0m     \u001b[39mraise\u001b[39;00m \u001b[39mTimeoutError\u001b[39;00m()\n",
      "File \u001b[0;32m/opt/homebrew/Caskroom/miniforge/base/lib/python3.9/concurrent/futures/_base.py:391\u001b[0m, in \u001b[0;36mFuture.__get_result\u001b[0;34m(self)\u001b[0m\n\u001b[1;32m    389\u001b[0m \u001b[39mif\u001b[39;00m \u001b[39mself\u001b[39m\u001b[39m.\u001b[39m_exception:\n\u001b[1;32m    390\u001b[0m     \u001b[39mtry\u001b[39;00m:\n\u001b[0;32m--> 391\u001b[0m         \u001b[39mraise\u001b[39;00m \u001b[39mself\u001b[39m\u001b[39m.\u001b[39m_exception\n\u001b[1;32m    392\u001b[0m     \u001b[39mfinally\u001b[39;00m:\n\u001b[1;32m    393\u001b[0m         \u001b[39m# Break a reference cycle with the exception in self._exception\u001b[39;00m\n\u001b[1;32m    394\u001b[0m         \u001b[39mself\u001b[39m \u001b[39m=\u001b[39m \u001b[39mNone\u001b[39;00m\n",
      "File \u001b[0;32m/opt/homebrew/Caskroom/miniforge/base/lib/python3.9/site-packages/prefect/client/utilities.py:47\u001b[0m, in \u001b[0;36minject_client.<locals>.with_injected_client\u001b[0;34m(*args, **kwargs)\u001b[0m\n\u001b[1;32m     45\u001b[0m \u001b[39masync\u001b[39;00m \u001b[39mwith\u001b[39;00m client_context \u001b[39mas\u001b[39;00m new_client:\n\u001b[1;32m     46\u001b[0m     kwargs\u001b[39m.\u001b[39msetdefault(\u001b[39m\"\u001b[39m\u001b[39mclient\u001b[39m\u001b[39m\"\u001b[39m, new_client \u001b[39mor\u001b[39;00m client)\n\u001b[0;32m---> 47\u001b[0m     \u001b[39mreturn\u001b[39;00m \u001b[39mawait\u001b[39;00m fn(\u001b[39m*\u001b[39margs, \u001b[39m*\u001b[39m\u001b[39m*\u001b[39mkwargs)\n",
      "File \u001b[0;32m/opt/homebrew/Caskroom/miniforge/base/lib/python3.9/site-packages/prefect/engine.py:568\u001b[0m, in \u001b[0;36mcreate_and_begin_subflow_run\u001b[0;34m(flow, parameters, wait_for, return_type, client)\u001b[0m\n\u001b[1;32m    566\u001b[0m     \u001b[39mreturn\u001b[39;00m terminal_state\n\u001b[1;32m    567\u001b[0m \u001b[39melif\u001b[39;00m return_type \u001b[39m==\u001b[39m \u001b[39m\"\u001b[39m\u001b[39mresult\u001b[39m\u001b[39m\"\u001b[39m:\n\u001b[0;32m--> 568\u001b[0m     \u001b[39mreturn\u001b[39;00m \u001b[39mawait\u001b[39;00m terminal_state\u001b[39m.\u001b[39mresult(fetch\u001b[39m=\u001b[39m\u001b[39mTrue\u001b[39;00m)\n\u001b[1;32m    569\u001b[0m \u001b[39melse\u001b[39;00m:\n\u001b[1;32m    570\u001b[0m     \u001b[39mraise\u001b[39;00m \u001b[39mValueError\u001b[39;00m(\u001b[39mf\u001b[39m\u001b[39m\"\u001b[39m\u001b[39mInvalid return type for flow engine \u001b[39m\u001b[39m{\u001b[39;00mreturn_type\u001b[39m!r}\u001b[39;00m\u001b[39m.\u001b[39m\u001b[39m\"\u001b[39m)\n",
      "File \u001b[0;32m/opt/homebrew/Caskroom/miniforge/base/lib/python3.9/site-packages/prefect/states.py:91\u001b[0m, in \u001b[0;36m_get_state_result\u001b[0;34m(state, raise_on_failure)\u001b[0m\n\u001b[1;32m     86\u001b[0m     \u001b[39mraise\u001b[39;00m PausedRun(\u001b[39m\"\u001b[39m\u001b[39mRun paused.\u001b[39m\u001b[39m\"\u001b[39m)\n\u001b[1;32m     88\u001b[0m \u001b[39mif\u001b[39;00m raise_on_failure \u001b[39mand\u001b[39;00m (\n\u001b[1;32m     89\u001b[0m     state\u001b[39m.\u001b[39mis_crashed() \u001b[39mor\u001b[39;00m state\u001b[39m.\u001b[39mis_failed() \u001b[39mor\u001b[39;00m state\u001b[39m.\u001b[39mis_cancelled()\n\u001b[1;32m     90\u001b[0m ):\n\u001b[0;32m---> 91\u001b[0m     \u001b[39mraise\u001b[39;00m \u001b[39mawait\u001b[39;00m get_state_exception(state)\n\u001b[1;32m     93\u001b[0m \u001b[39mif\u001b[39;00m \u001b[39misinstance\u001b[39m(state\u001b[39m.\u001b[39mdata, DataDocument):\n\u001b[1;32m     94\u001b[0m     result \u001b[39m=\u001b[39m result_from_state_with_data_document(\n\u001b[1;32m     95\u001b[0m         state, raise_on_failure\u001b[39m=\u001b[39mraise_on_failure\n\u001b[1;32m     96\u001b[0m     )\n",
      "File \u001b[0;32m/opt/homebrew/Caskroom/miniforge/base/lib/python3.9/site-packages/prefect/engine.py:665\u001b[0m, in \u001b[0;36morchestrate_flow_run\u001b[0;34m(flow, flow_run, parameters, wait_for, interruptible, client, partial_flow_run_context)\u001b[0m\n\u001b[1;32m    659\u001b[0m             \u001b[39melse\u001b[39;00m:\n\u001b[1;32m    660\u001b[0m                 run_sync \u001b[39m=\u001b[39m (\n\u001b[1;32m    661\u001b[0m                     run_sync_in_interruptible_worker_thread\n\u001b[1;32m    662\u001b[0m                     \u001b[39mif\u001b[39;00m interruptible \u001b[39mor\u001b[39;00m timeout_scope\n\u001b[1;32m    663\u001b[0m                     \u001b[39melse\u001b[39;00m run_sync_in_worker_thread\n\u001b[1;32m    664\u001b[0m                 )\n\u001b[0;32m--> 665\u001b[0m                 result \u001b[39m=\u001b[39m \u001b[39mawait\u001b[39;00m run_sync(flow_call)\n\u001b[1;32m    667\u001b[0m         waited_for_task_runs \u001b[39m=\u001b[39m \u001b[39mawait\u001b[39;00m wait_for_task_runs_and_report_crashes(\n\u001b[1;32m    668\u001b[0m             flow_run_context\u001b[39m.\u001b[39mtask_run_futures, client\u001b[39m=\u001b[39mclient\n\u001b[1;32m    669\u001b[0m         )\n\u001b[1;32m    670\u001b[0m \u001b[39mexcept\u001b[39;00m PausedRun:\n",
      "File \u001b[0;32m/opt/homebrew/Caskroom/miniforge/base/lib/python3.9/site-packages/prefect/utilities/asyncutils.py:156\u001b[0m, in \u001b[0;36mrun_sync_in_interruptible_worker_thread\u001b[0;34m(__fn, *args, **kwargs)\u001b[0m\n\u001b[1;32m    154\u001b[0m \u001b[39masync\u001b[39;00m \u001b[39mwith\u001b[39;00m anyio\u001b[39m.\u001b[39mcreate_task_group() \u001b[39mas\u001b[39;00m tg:\n\u001b[1;32m    155\u001b[0m     tg\u001b[39m.\u001b[39mstart_soon(send_interrupt_to_thread)\n\u001b[0;32m--> 156\u001b[0m     tg\u001b[39m.\u001b[39mstart_soon(\n\u001b[1;32m    157\u001b[0m         partial(\n\u001b[1;32m    158\u001b[0m             anyio\u001b[39m.\u001b[39mto_thread\u001b[39m.\u001b[39mrun_sync,\n\u001b[1;32m    159\u001b[0m             capture_worker_thread_and_result,\n\u001b[1;32m    160\u001b[0m             cancellable\u001b[39m=\u001b[39m\u001b[39mTrue\u001b[39;00m,\n\u001b[1;32m    161\u001b[0m             limiter\u001b[39m=\u001b[39mget_thread_limiter(),\n\u001b[1;32m    162\u001b[0m         )\n\u001b[1;32m    163\u001b[0m     )\n\u001b[1;32m    165\u001b[0m \u001b[39massert\u001b[39;00m result \u001b[39mis\u001b[39;00m \u001b[39mnot\u001b[39;00m NotSet\n\u001b[1;32m    166\u001b[0m \u001b[39mreturn\u001b[39;00m result\n",
      "File \u001b[0;32m/opt/homebrew/Caskroom/miniforge/base/lib/python3.9/site-packages/anyio/_backends/_asyncio.py:662\u001b[0m, in \u001b[0;36mTaskGroup.__aexit__\u001b[0;34m(self, exc_type, exc_val, exc_tb)\u001b[0m\n\u001b[1;32m    660\u001b[0m             \u001b[39mraise\u001b[39;00m ExceptionGroup(exceptions)\n\u001b[1;32m    661\u001b[0m     \u001b[39melif\u001b[39;00m exceptions \u001b[39mand\u001b[39;00m exceptions[\u001b[39m0\u001b[39m] \u001b[39mis\u001b[39;00m \u001b[39mnot\u001b[39;00m exc_val:\n\u001b[0;32m--> 662\u001b[0m         \u001b[39mraise\u001b[39;00m exceptions[\u001b[39m0\u001b[39m]\n\u001b[1;32m    663\u001b[0m \u001b[39mexcept\u001b[39;00m \u001b[39mBaseException\u001b[39;00m \u001b[39mas\u001b[39;00m exc:\n\u001b[1;32m    664\u001b[0m     \u001b[39m# Clear the context here, as it can only be done in-flight.\u001b[39;00m\n\u001b[1;32m    665\u001b[0m     \u001b[39m# If the context is not cleared, it can result in recursive tracebacks (see #145).\u001b[39;00m\n\u001b[1;32m    666\u001b[0m     exc\u001b[39m.\u001b[39m__context__ \u001b[39m=\u001b[39m \u001b[39mNone\u001b[39;00m\n",
      "File \u001b[0;32m/opt/homebrew/Caskroom/miniforge/base/lib/python3.9/site-packages/anyio/to_thread.py:31\u001b[0m, in \u001b[0;36mrun_sync\u001b[0;34m(func, cancellable, limiter, *args)\u001b[0m\n\u001b[1;32m     10\u001b[0m \u001b[39masync\u001b[39;00m \u001b[39mdef\u001b[39;00m \u001b[39mrun_sync\u001b[39m(\n\u001b[1;32m     11\u001b[0m     func: Callable[\u001b[39m.\u001b[39m\u001b[39m.\u001b[39m\u001b[39m.\u001b[39m, T_Retval],\n\u001b[1;32m     12\u001b[0m     \u001b[39m*\u001b[39margs: \u001b[39mobject\u001b[39m,\n\u001b[1;32m     13\u001b[0m     cancellable: \u001b[39mbool\u001b[39m \u001b[39m=\u001b[39m \u001b[39mFalse\u001b[39;00m,\n\u001b[1;32m     14\u001b[0m     limiter: Optional[CapacityLimiter] \u001b[39m=\u001b[39m \u001b[39mNone\u001b[39;00m\n\u001b[1;32m     15\u001b[0m ) \u001b[39m-\u001b[39m\u001b[39m>\u001b[39m T_Retval:\n\u001b[1;32m     16\u001b[0m \u001b[39m    \u001b[39m\u001b[39m\"\"\"\u001b[39;00m\n\u001b[1;32m     17\u001b[0m \u001b[39m    Call the given function with the given arguments in a worker thread.\u001b[39;00m\n\u001b[1;32m     18\u001b[0m \n\u001b[0;32m   (...)\u001b[0m\n\u001b[1;32m     29\u001b[0m \n\u001b[1;32m     30\u001b[0m \u001b[39m    \"\"\"\u001b[39;00m\n\u001b[0;32m---> 31\u001b[0m     \u001b[39mreturn\u001b[39;00m \u001b[39mawait\u001b[39;00m get_asynclib()\u001b[39m.\u001b[39mrun_sync_in_worker_thread(\n\u001b[1;32m     32\u001b[0m         func, \u001b[39m*\u001b[39margs, cancellable\u001b[39m=\u001b[39mcancellable, limiter\u001b[39m=\u001b[39mlimiter\n\u001b[1;32m     33\u001b[0m     )\n",
      "File \u001b[0;32m/opt/homebrew/Caskroom/miniforge/base/lib/python3.9/site-packages/anyio/_backends/_asyncio.py:937\u001b[0m, in \u001b[0;36mrun_sync_in_worker_thread\u001b[0;34m(func, cancellable, limiter, *args)\u001b[0m\n\u001b[1;32m    935\u001b[0m context\u001b[39m.\u001b[39mrun(sniffio\u001b[39m.\u001b[39mcurrent_async_library_cvar\u001b[39m.\u001b[39mset, \u001b[39mNone\u001b[39;00m)\n\u001b[1;32m    936\u001b[0m worker\u001b[39m.\u001b[39mqueue\u001b[39m.\u001b[39mput_nowait((context, func, args, future))\n\u001b[0;32m--> 937\u001b[0m \u001b[39mreturn\u001b[39;00m \u001b[39mawait\u001b[39;00m future\n",
      "File \u001b[0;32m/opt/homebrew/Caskroom/miniforge/base/lib/python3.9/site-packages/anyio/_backends/_asyncio.py:867\u001b[0m, in \u001b[0;36mWorkerThread.run\u001b[0;34m(self)\u001b[0m\n\u001b[1;32m    865\u001b[0m exception: Optional[\u001b[39mBaseException\u001b[39;00m] \u001b[39m=\u001b[39m \u001b[39mNone\u001b[39;00m\n\u001b[1;32m    866\u001b[0m \u001b[39mtry\u001b[39;00m:\n\u001b[0;32m--> 867\u001b[0m     result \u001b[39m=\u001b[39m context\u001b[39m.\u001b[39;49mrun(func, \u001b[39m*\u001b[39;49margs)\n\u001b[1;32m    868\u001b[0m \u001b[39mexcept\u001b[39;00m \u001b[39mBaseException\u001b[39;00m \u001b[39mas\u001b[39;00m exc:\n\u001b[1;32m    869\u001b[0m     exception \u001b[39m=\u001b[39m exc\n",
      "File \u001b[0;32m/opt/homebrew/Caskroom/miniforge/base/lib/python3.9/site-packages/prefect/utilities/asyncutils.py:135\u001b[0m, in \u001b[0;36mrun_sync_in_interruptible_worker_thread.<locals>.capture_worker_thread_and_result\u001b[0;34m()\u001b[0m\n\u001b[1;32m    133\u001b[0m \u001b[39mtry\u001b[39;00m:\n\u001b[1;32m    134\u001b[0m     thread \u001b[39m=\u001b[39m threading\u001b[39m.\u001b[39mcurrent_thread()\n\u001b[0;32m--> 135\u001b[0m     result \u001b[39m=\u001b[39m __fn(\u001b[39m*\u001b[39;49margs, \u001b[39m*\u001b[39;49m\u001b[39m*\u001b[39;49mkwargs)\n\u001b[1;32m    136\u001b[0m \u001b[39mexcept\u001b[39;00m \u001b[39mBaseException\u001b[39;00m \u001b[39mas\u001b[39;00m exc:\n\u001b[1;32m    137\u001b[0m     result \u001b[39m=\u001b[39m exc\n",
      "Cell \u001b[0;32mIn[37], line 53\u001b[0m, in \u001b[0;36metl_gcs_to_bq\u001b[0;34m(file_num)\u001b[0m\n\u001b[1;32m      7\u001b[0m job_config \u001b[39m=\u001b[39m bigquery\u001b[39m.\u001b[39mLoadJobConfig(\n\u001b[1;32m      8\u001b[0m     source_format\u001b[39m=\u001b[39mbigquery\u001b[39m.\u001b[39mSourceFormat\u001b[39m.\u001b[39mPARQUET,\n\u001b[1;32m      9\u001b[0m     schema\u001b[39m=\u001b[39m[\n\u001b[0;32m   (...)\u001b[0m\n\u001b[1;32m     49\u001b[0m     ],\n\u001b[1;32m     50\u001b[0m )\n\u001b[1;32m     51\u001b[0m uri \u001b[39m=\u001b[39m \u001b[39mf\u001b[39m\u001b[39m\"\u001b[39m\u001b[39mgs://prefect-gcs-bucket-bandcamp/albums-full-info-\u001b[39m\u001b[39m{\u001b[39;00mfile_num\u001b[39m}\u001b[39;00m\u001b[39m\"\u001b[39m\n\u001b[0;32m---> 53\u001b[0m load_job \u001b[39m=\u001b[39m client\u001b[39m.\u001b[39;49mload_table_from_uri(\n\u001b[1;32m     54\u001b[0m     uri, table_id, job_config\u001b[39m=\u001b[39;49mjob_config\n\u001b[1;32m     55\u001b[0m )  \u001b[39m# Make an API request.\u001b[39;00m\n\u001b[1;32m     57\u001b[0m load_job\u001b[39m.\u001b[39mresult()  \u001b[39m# Waits for the job to complete.\u001b[39;00m\n\u001b[1;32m     59\u001b[0m destination_table \u001b[39m=\u001b[39m client\u001b[39m.\u001b[39mget_table(table_id)\n",
      "File \u001b[0;32m/opt/homebrew/Caskroom/miniforge/base/lib/python3.9/site-packages/google/cloud/bigquery/client.py:2363\u001b[0m, in \u001b[0;36mClient.load_table_from_uri\u001b[0;34m(self, source_uris, destination, job_id, job_id_prefix, location, project, job_config, retry, timeout)\u001b[0m\n\u001b[1;32m   2360\u001b[0m     _verify_job_config_type(job_config, google\u001b[39m.\u001b[39mcloud\u001b[39m.\u001b[39mbigquery\u001b[39m.\u001b[39mjob\u001b[39m.\u001b[39mLoadJobConfig)\n\u001b[1;32m   2362\u001b[0m load_job \u001b[39m=\u001b[39m job\u001b[39m.\u001b[39mLoadJob(job_ref, source_uris, destination, \u001b[39mself\u001b[39m, job_config)\n\u001b[0;32m-> 2363\u001b[0m load_job\u001b[39m.\u001b[39;49m_begin(retry\u001b[39m=\u001b[39;49mretry, timeout\u001b[39m=\u001b[39;49mtimeout)\n\u001b[1;32m   2365\u001b[0m \u001b[39mreturn\u001b[39;00m load_job\n",
      "File \u001b[0;32m/opt/homebrew/Caskroom/miniforge/base/lib/python3.9/site-packages/google/cloud/bigquery/job/base.py:510\u001b[0m, in \u001b[0;36m_AsyncJob._begin\u001b[0;34m(self, client, retry, timeout)\u001b[0m\n\u001b[1;32m    507\u001b[0m \u001b[39m# jobs.insert is idempotent because we ensure that every new\u001b[39;00m\n\u001b[1;32m    508\u001b[0m \u001b[39m# job has an ID.\u001b[39;00m\n\u001b[1;32m    509\u001b[0m span_attributes \u001b[39m=\u001b[39m {\u001b[39m\"\u001b[39m\u001b[39mpath\u001b[39m\u001b[39m\"\u001b[39m: path}\n\u001b[0;32m--> 510\u001b[0m api_response \u001b[39m=\u001b[39m client\u001b[39m.\u001b[39;49m_call_api(\n\u001b[1;32m    511\u001b[0m     retry,\n\u001b[1;32m    512\u001b[0m     span_name\u001b[39m=\u001b[39;49m\u001b[39m\"\u001b[39;49m\u001b[39mBigQuery.job.begin\u001b[39;49m\u001b[39m\"\u001b[39;49m,\n\u001b[1;32m    513\u001b[0m     span_attributes\u001b[39m=\u001b[39;49mspan_attributes,\n\u001b[1;32m    514\u001b[0m     job_ref\u001b[39m=\u001b[39;49m\u001b[39mself\u001b[39;49m,\n\u001b[1;32m    515\u001b[0m     method\u001b[39m=\u001b[39;49m\u001b[39m\"\u001b[39;49m\u001b[39mPOST\u001b[39;49m\u001b[39m\"\u001b[39;49m,\n\u001b[1;32m    516\u001b[0m     path\u001b[39m=\u001b[39;49mpath,\n\u001b[1;32m    517\u001b[0m     data\u001b[39m=\u001b[39;49m\u001b[39mself\u001b[39;49m\u001b[39m.\u001b[39;49mto_api_repr(),\n\u001b[1;32m    518\u001b[0m     timeout\u001b[39m=\u001b[39;49mtimeout,\n\u001b[1;32m    519\u001b[0m )\n\u001b[1;32m    520\u001b[0m \u001b[39mself\u001b[39m\u001b[39m.\u001b[39m_set_properties(api_response)\n",
      "File \u001b[0;32m/opt/homebrew/Caskroom/miniforge/base/lib/python3.9/site-packages/google/cloud/bigquery/client.py:797\u001b[0m, in \u001b[0;36mClient._call_api\u001b[0;34m(self, retry, span_name, span_attributes, job_ref, headers, **kwargs)\u001b[0m\n\u001b[1;32m    793\u001b[0m \u001b[39mif\u001b[39;00m span_name \u001b[39mis\u001b[39;00m \u001b[39mnot\u001b[39;00m \u001b[39mNone\u001b[39;00m:\n\u001b[1;32m    794\u001b[0m     \u001b[39mwith\u001b[39;00m create_span(\n\u001b[1;32m    795\u001b[0m         name\u001b[39m=\u001b[39mspan_name, attributes\u001b[39m=\u001b[39mspan_attributes, client\u001b[39m=\u001b[39m\u001b[39mself\u001b[39m, job_ref\u001b[39m=\u001b[39mjob_ref\n\u001b[1;32m    796\u001b[0m     ):\n\u001b[0;32m--> 797\u001b[0m         \u001b[39mreturn\u001b[39;00m call()\n\u001b[1;32m    799\u001b[0m \u001b[39mreturn\u001b[39;00m call()\n",
      "File \u001b[0;32m/opt/homebrew/Caskroom/miniforge/base/lib/python3.9/site-packages/google/api_core/retry.py:349\u001b[0m, in \u001b[0;36mRetry.__call__.<locals>.retry_wrapped_func\u001b[0;34m(*args, **kwargs)\u001b[0m\n\u001b[1;32m    345\u001b[0m target \u001b[39m=\u001b[39m functools\u001b[39m.\u001b[39mpartial(func, \u001b[39m*\u001b[39margs, \u001b[39m*\u001b[39m\u001b[39m*\u001b[39mkwargs)\n\u001b[1;32m    346\u001b[0m sleep_generator \u001b[39m=\u001b[39m exponential_sleep_generator(\n\u001b[1;32m    347\u001b[0m     \u001b[39mself\u001b[39m\u001b[39m.\u001b[39m_initial, \u001b[39mself\u001b[39m\u001b[39m.\u001b[39m_maximum, multiplier\u001b[39m=\u001b[39m\u001b[39mself\u001b[39m\u001b[39m.\u001b[39m_multiplier\n\u001b[1;32m    348\u001b[0m )\n\u001b[0;32m--> 349\u001b[0m \u001b[39mreturn\u001b[39;00m retry_target(\n\u001b[1;32m    350\u001b[0m     target,\n\u001b[1;32m    351\u001b[0m     \u001b[39mself\u001b[39;49m\u001b[39m.\u001b[39;49m_predicate,\n\u001b[1;32m    352\u001b[0m     sleep_generator,\n\u001b[1;32m    353\u001b[0m     \u001b[39mself\u001b[39;49m\u001b[39m.\u001b[39;49m_timeout,\n\u001b[1;32m    354\u001b[0m     on_error\u001b[39m=\u001b[39;49mon_error,\n\u001b[1;32m    355\u001b[0m )\n",
      "File \u001b[0;32m/opt/homebrew/Caskroom/miniforge/base/lib/python3.9/site-packages/google/api_core/retry.py:191\u001b[0m, in \u001b[0;36mretry_target\u001b[0;34m(target, predicate, sleep_generator, timeout, on_error, **kwargs)\u001b[0m\n\u001b[1;32m    189\u001b[0m \u001b[39mfor\u001b[39;00m sleep \u001b[39min\u001b[39;00m sleep_generator:\n\u001b[1;32m    190\u001b[0m     \u001b[39mtry\u001b[39;00m:\n\u001b[0;32m--> 191\u001b[0m         \u001b[39mreturn\u001b[39;00m target()\n\u001b[1;32m    193\u001b[0m     \u001b[39m# pylint: disable=broad-except\u001b[39;00m\n\u001b[1;32m    194\u001b[0m     \u001b[39m# This function explicitly must deal with broad exceptions.\u001b[39;00m\n\u001b[1;32m    195\u001b[0m     \u001b[39mexcept\u001b[39;00m \u001b[39mException\u001b[39;00m \u001b[39mas\u001b[39;00m exc:\n",
      "File \u001b[0;32m/opt/homebrew/Caskroom/miniforge/base/lib/python3.9/site-packages/google/cloud/_http/__init__.py:494\u001b[0m, in \u001b[0;36mJSONConnection.api_request\u001b[0;34m(self, method, path, query_params, data, content_type, headers, api_base_url, api_version, expect_json, _target_object, timeout, extra_api_info)\u001b[0m\n\u001b[1;32m    482\u001b[0m response \u001b[39m=\u001b[39m \u001b[39mself\u001b[39m\u001b[39m.\u001b[39m_make_request(\n\u001b[1;32m    483\u001b[0m     method\u001b[39m=\u001b[39mmethod,\n\u001b[1;32m    484\u001b[0m     url\u001b[39m=\u001b[39murl,\n\u001b[0;32m   (...)\u001b[0m\n\u001b[1;32m    490\u001b[0m     extra_api_info\u001b[39m=\u001b[39mextra_api_info,\n\u001b[1;32m    491\u001b[0m )\n\u001b[1;32m    493\u001b[0m \u001b[39mif\u001b[39;00m \u001b[39mnot\u001b[39;00m \u001b[39m200\u001b[39m \u001b[39m<\u001b[39m\u001b[39m=\u001b[39m response\u001b[39m.\u001b[39mstatus_code \u001b[39m<\u001b[39m \u001b[39m300\u001b[39m:\n\u001b[0;32m--> 494\u001b[0m     \u001b[39mraise\u001b[39;00m exceptions\u001b[39m.\u001b[39mfrom_http_response(response)\n\u001b[1;32m    496\u001b[0m \u001b[39mif\u001b[39;00m expect_json \u001b[39mand\u001b[39;00m response\u001b[39m.\u001b[39mcontent:\n\u001b[1;32m    497\u001b[0m     \u001b[39mreturn\u001b[39;00m response\u001b[39m.\u001b[39mjson()\n",
      "\u001b[0;31mBadRequest\u001b[0m: 400 POST https://bigquery.googleapis.com/bigquery/v2/projects/dtc-de-2023/jobs?prettyPrint=false: Invalid field name \"byArtist_@type\". Fields must contain the allowed characters, and be at most 300 characters long. For allowed characters, please refer to https://cloud.google.com/bigquery/docs/schemas#column_names"
     ]
    }
   ],
   "source": [
    "# Run main\n",
    "if __name__ == \"__main__\":\n",
    "    file_num_list = [10,11]\n",
    "\n",
    "    etl_parent_bq_flow(file_num_list)"
   ]
  }
 ],
 "metadata": {
  "kernelspec": {
   "display_name": "base",
   "language": "python",
   "name": "python3"
  },
  "language_info": {
   "codemirror_mode": {
    "name": "ipython",
    "version": 3
   },
   "file_extension": ".py",
   "mimetype": "text/x-python",
   "name": "python",
   "nbconvert_exporter": "python",
   "pygments_lexer": "ipython3",
   "version": "3.9.16"
  },
  "orig_nbformat": 4
 },
 "nbformat": 4,
 "nbformat_minor": 2
}
